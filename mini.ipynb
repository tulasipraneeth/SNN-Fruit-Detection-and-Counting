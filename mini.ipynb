{
  "nbformat": 4,
  "nbformat_minor": 0,
  "metadata": {
    "colab": {
      "provenance": [],
      "gpuType": "T4",
      "authorship_tag": "ABX9TyNf2B+ioguDZtH5nZDxq80/",
      "include_colab_link": true
    },
    "kernelspec": {
      "name": "python3",
      "display_name": "Python 3"
    },
    "language_info": {
      "name": "python"
    },
    "accelerator": "GPU"
  },
  "cells": [
    {
      "cell_type": "markdown",
      "metadata": {
        "id": "view-in-github",
        "colab_type": "text"
      },
      "source": [
        "<a href=\"https://colab.research.google.com/github/tulasipraneeth/SNN-Fruit-Detection-and-Counting/blob/main/mini.ipynb\" target=\"_parent\"><img src=\"https://colab.research.google.com/assets/colab-badge.svg\" alt=\"Open In Colab\"/></a>"
      ]
    },
    {
      "cell_type": "code",
      "execution_count": 2,
      "metadata": {
        "id": "t5LjKIkyHG2p",
        "colab": {
          "base_uri": "https://localhost:8080/"
        },
        "outputId": "a3029260-50a0-433c-8d70-8cacc2e5f4dc"
      },
      "outputs": [
        {
          "output_type": "stream",
          "name": "stdout",
          "text": [
            "Requirement already satisfied: opencv-python-headless in /usr/local/lib/python3.11/dist-packages (4.11.0.86)\n",
            "Requirement already satisfied: numpy>=1.21.2 in /usr/local/lib/python3.11/dist-packages (from opencv-python-headless) (2.0.2)\n",
            "Collecting snntorch\n",
            "  Downloading snntorch-0.9.4-py2.py3-none-any.whl.metadata (15 kB)\n",
            "Downloading snntorch-0.9.4-py2.py3-none-any.whl (125 kB)\n",
            "\u001b[2K   \u001b[90m━━━━━━━━━━━━━━━━━━━━━━━━━━━━━━━━━━━━━━━━\u001b[0m \u001b[32m125.6/125.6 kB\u001b[0m \u001b[31m11.0 MB/s\u001b[0m eta \u001b[36m0:00:00\u001b[0m\n",
            "\u001b[?25hInstalling collected packages: snntorch\n",
            "Successfully installed snntorch-0.9.4\n",
            "Requirement already satisfied: torch in /usr/local/lib/python3.11/dist-packages (2.6.0+cu124)\n",
            "Requirement already satisfied: torchvision in /usr/local/lib/python3.11/dist-packages (0.21.0+cu124)\n",
            "Requirement already satisfied: filelock in /usr/local/lib/python3.11/dist-packages (from torch) (3.18.0)\n",
            "Requirement already satisfied: typing-extensions>=4.10.0 in /usr/local/lib/python3.11/dist-packages (from torch) (4.14.0)\n",
            "Requirement already satisfied: networkx in /usr/local/lib/python3.11/dist-packages (from torch) (3.5)\n",
            "Requirement already satisfied: jinja2 in /usr/local/lib/python3.11/dist-packages (from torch) (3.1.6)\n",
            "Requirement already satisfied: fsspec in /usr/local/lib/python3.11/dist-packages (from torch) (2025.3.2)\n",
            "Collecting nvidia-cuda-nvrtc-cu12==12.4.127 (from torch)\n",
            "  Downloading nvidia_cuda_nvrtc_cu12-12.4.127-py3-none-manylinux2014_x86_64.whl.metadata (1.5 kB)\n",
            "Collecting nvidia-cuda-runtime-cu12==12.4.127 (from torch)\n",
            "  Downloading nvidia_cuda_runtime_cu12-12.4.127-py3-none-manylinux2014_x86_64.whl.metadata (1.5 kB)\n",
            "Collecting nvidia-cuda-cupti-cu12==12.4.127 (from torch)\n",
            "  Downloading nvidia_cuda_cupti_cu12-12.4.127-py3-none-manylinux2014_x86_64.whl.metadata (1.6 kB)\n",
            "Collecting nvidia-cudnn-cu12==9.1.0.70 (from torch)\n",
            "  Downloading nvidia_cudnn_cu12-9.1.0.70-py3-none-manylinux2014_x86_64.whl.metadata (1.6 kB)\n",
            "Collecting nvidia-cublas-cu12==12.4.5.8 (from torch)\n",
            "  Downloading nvidia_cublas_cu12-12.4.5.8-py3-none-manylinux2014_x86_64.whl.metadata (1.5 kB)\n",
            "Collecting nvidia-cufft-cu12==11.2.1.3 (from torch)\n",
            "  Downloading nvidia_cufft_cu12-11.2.1.3-py3-none-manylinux2014_x86_64.whl.metadata (1.5 kB)\n",
            "Collecting nvidia-curand-cu12==10.3.5.147 (from torch)\n",
            "  Downloading nvidia_curand_cu12-10.3.5.147-py3-none-manylinux2014_x86_64.whl.metadata (1.5 kB)\n",
            "Collecting nvidia-cusolver-cu12==11.6.1.9 (from torch)\n",
            "  Downloading nvidia_cusolver_cu12-11.6.1.9-py3-none-manylinux2014_x86_64.whl.metadata (1.6 kB)\n",
            "Collecting nvidia-cusparse-cu12==12.3.1.170 (from torch)\n",
            "  Downloading nvidia_cusparse_cu12-12.3.1.170-py3-none-manylinux2014_x86_64.whl.metadata (1.6 kB)\n",
            "Requirement already satisfied: nvidia-cusparselt-cu12==0.6.2 in /usr/local/lib/python3.11/dist-packages (from torch) (0.6.2)\n",
            "Requirement already satisfied: nvidia-nccl-cu12==2.21.5 in /usr/local/lib/python3.11/dist-packages (from torch) (2.21.5)\n",
            "Requirement already satisfied: nvidia-nvtx-cu12==12.4.127 in /usr/local/lib/python3.11/dist-packages (from torch) (12.4.127)\n",
            "Collecting nvidia-nvjitlink-cu12==12.4.127 (from torch)\n",
            "  Downloading nvidia_nvjitlink_cu12-12.4.127-py3-none-manylinux2014_x86_64.whl.metadata (1.5 kB)\n",
            "Requirement already satisfied: triton==3.2.0 in /usr/local/lib/python3.11/dist-packages (from torch) (3.2.0)\n",
            "Requirement already satisfied: sympy==1.13.1 in /usr/local/lib/python3.11/dist-packages (from torch) (1.13.1)\n",
            "Requirement already satisfied: mpmath<1.4,>=1.1.0 in /usr/local/lib/python3.11/dist-packages (from sympy==1.13.1->torch) (1.3.0)\n",
            "Requirement already satisfied: numpy in /usr/local/lib/python3.11/dist-packages (from torchvision) (2.0.2)\n",
            "Requirement already satisfied: pillow!=8.3.*,>=5.3.0 in /usr/local/lib/python3.11/dist-packages (from torchvision) (11.2.1)\n",
            "Requirement already satisfied: MarkupSafe>=2.0 in /usr/local/lib/python3.11/dist-packages (from jinja2->torch) (3.0.2)\n",
            "Downloading nvidia_cublas_cu12-12.4.5.8-py3-none-manylinux2014_x86_64.whl (363.4 MB)\n",
            "\u001b[2K   \u001b[90m━━━━━━━━━━━━━━━━━━━━━━━━━━━━━━━━━━━━━━━━\u001b[0m \u001b[32m363.4/363.4 MB\u001b[0m \u001b[31m2.9 MB/s\u001b[0m eta \u001b[36m0:00:00\u001b[0m\n",
            "\u001b[?25hDownloading nvidia_cuda_cupti_cu12-12.4.127-py3-none-manylinux2014_x86_64.whl (13.8 MB)\n",
            "\u001b[2K   \u001b[90m━━━━━━━━━━━━━━━━━━━━━━━━━━━━━━━━━━━━━━━━\u001b[0m \u001b[32m13.8/13.8 MB\u001b[0m \u001b[31m68.3 MB/s\u001b[0m eta \u001b[36m0:00:00\u001b[0m\n",
            "\u001b[?25hDownloading nvidia_cuda_nvrtc_cu12-12.4.127-py3-none-manylinux2014_x86_64.whl (24.6 MB)\n",
            "\u001b[2K   \u001b[90m━━━━━━━━━━━━━━━━━━━━━━━━━━━━━━━━━━━━━━━━\u001b[0m \u001b[32m24.6/24.6 MB\u001b[0m \u001b[31m36.7 MB/s\u001b[0m eta \u001b[36m0:00:00\u001b[0m\n",
            "\u001b[?25hDownloading nvidia_cuda_runtime_cu12-12.4.127-py3-none-manylinux2014_x86_64.whl (883 kB)\n",
            "\u001b[2K   \u001b[90m━━━━━━━━━━━━━━━━━━━━━━━━━━━━━━━━━━━━━━━━\u001b[0m \u001b[32m883.7/883.7 kB\u001b[0m \u001b[31m59.7 MB/s\u001b[0m eta \u001b[36m0:00:00\u001b[0m\n",
            "\u001b[?25hDownloading nvidia_cudnn_cu12-9.1.0.70-py3-none-manylinux2014_x86_64.whl (664.8 MB)\n",
            "\u001b[2K   \u001b[90m━━━━━━━━━━━━━━━━━━━━━━━━━━━━━━━━━━━━━━━━\u001b[0m \u001b[32m664.8/664.8 MB\u001b[0m \u001b[31m1.3 MB/s\u001b[0m eta \u001b[36m0:00:00\u001b[0m\n",
            "\u001b[?25hDownloading nvidia_cufft_cu12-11.2.1.3-py3-none-manylinux2014_x86_64.whl (211.5 MB)\n",
            "\u001b[2K   \u001b[90m━━━━━━━━━━━━━━━━━━━━━━━━━━━━━━━━━━━━━━━━\u001b[0m \u001b[32m211.5/211.5 MB\u001b[0m \u001b[31m5.6 MB/s\u001b[0m eta \u001b[36m0:00:00\u001b[0m\n",
            "\u001b[?25hDownloading nvidia_curand_cu12-10.3.5.147-py3-none-manylinux2014_x86_64.whl (56.3 MB)\n",
            "\u001b[2K   \u001b[90m━━━━━━━━━━━━━━━━━━━━━━━━━━━━━━━━━━━━━━━━\u001b[0m \u001b[32m56.3/56.3 MB\u001b[0m \u001b[31m13.3 MB/s\u001b[0m eta \u001b[36m0:00:00\u001b[0m\n",
            "\u001b[?25hDownloading nvidia_cusolver_cu12-11.6.1.9-py3-none-manylinux2014_x86_64.whl (127.9 MB)\n",
            "\u001b[2K   \u001b[90m━━━━━━━━━━━━━━━━━━━━━━━━━━━━━━━━━━━━━━━━\u001b[0m \u001b[32m127.9/127.9 MB\u001b[0m \u001b[31m7.6 MB/s\u001b[0m eta \u001b[36m0:00:00\u001b[0m\n",
            "\u001b[?25hDownloading nvidia_cusparse_cu12-12.3.1.170-py3-none-manylinux2014_x86_64.whl (207.5 MB)\n",
            "\u001b[2K   \u001b[90m━━━━━━━━━━━━━━━━━━━━━━━━━━━━━━━━━━━━━━━━\u001b[0m \u001b[32m207.5/207.5 MB\u001b[0m \u001b[31m5.6 MB/s\u001b[0m eta \u001b[36m0:00:00\u001b[0m\n",
            "\u001b[?25hDownloading nvidia_nvjitlink_cu12-12.4.127-py3-none-manylinux2014_x86_64.whl (21.1 MB)\n",
            "\u001b[2K   \u001b[90m━━━━━━━━━━━━━━━━━━━━━━━━━━━━━━━━━━━━━━━━\u001b[0m \u001b[32m21.1/21.1 MB\u001b[0m \u001b[31m75.1 MB/s\u001b[0m eta \u001b[36m0:00:00\u001b[0m\n",
            "\u001b[?25hInstalling collected packages: nvidia-nvjitlink-cu12, nvidia-curand-cu12, nvidia-cufft-cu12, nvidia-cuda-runtime-cu12, nvidia-cuda-nvrtc-cu12, nvidia-cuda-cupti-cu12, nvidia-cublas-cu12, nvidia-cusparse-cu12, nvidia-cudnn-cu12, nvidia-cusolver-cu12\n",
            "  Attempting uninstall: nvidia-nvjitlink-cu12\n",
            "    Found existing installation: nvidia-nvjitlink-cu12 12.5.82\n",
            "    Uninstalling nvidia-nvjitlink-cu12-12.5.82:\n",
            "      Successfully uninstalled nvidia-nvjitlink-cu12-12.5.82\n",
            "  Attempting uninstall: nvidia-curand-cu12\n",
            "    Found existing installation: nvidia-curand-cu12 10.3.6.82\n",
            "    Uninstalling nvidia-curand-cu12-10.3.6.82:\n",
            "      Successfully uninstalled nvidia-curand-cu12-10.3.6.82\n",
            "  Attempting uninstall: nvidia-cufft-cu12\n",
            "    Found existing installation: nvidia-cufft-cu12 11.2.3.61\n",
            "    Uninstalling nvidia-cufft-cu12-11.2.3.61:\n",
            "      Successfully uninstalled nvidia-cufft-cu12-11.2.3.61\n",
            "  Attempting uninstall: nvidia-cuda-runtime-cu12\n",
            "    Found existing installation: nvidia-cuda-runtime-cu12 12.5.82\n",
            "    Uninstalling nvidia-cuda-runtime-cu12-12.5.82:\n",
            "      Successfully uninstalled nvidia-cuda-runtime-cu12-12.5.82\n",
            "  Attempting uninstall: nvidia-cuda-nvrtc-cu12\n",
            "    Found existing installation: nvidia-cuda-nvrtc-cu12 12.5.82\n",
            "    Uninstalling nvidia-cuda-nvrtc-cu12-12.5.82:\n",
            "      Successfully uninstalled nvidia-cuda-nvrtc-cu12-12.5.82\n",
            "  Attempting uninstall: nvidia-cuda-cupti-cu12\n",
            "    Found existing installation: nvidia-cuda-cupti-cu12 12.5.82\n",
            "    Uninstalling nvidia-cuda-cupti-cu12-12.5.82:\n",
            "      Successfully uninstalled nvidia-cuda-cupti-cu12-12.5.82\n",
            "  Attempting uninstall: nvidia-cublas-cu12\n",
            "    Found existing installation: nvidia-cublas-cu12 12.5.3.2\n",
            "    Uninstalling nvidia-cublas-cu12-12.5.3.2:\n",
            "      Successfully uninstalled nvidia-cublas-cu12-12.5.3.2\n",
            "  Attempting uninstall: nvidia-cusparse-cu12\n",
            "    Found existing installation: nvidia-cusparse-cu12 12.5.1.3\n",
            "    Uninstalling nvidia-cusparse-cu12-12.5.1.3:\n",
            "      Successfully uninstalled nvidia-cusparse-cu12-12.5.1.3\n",
            "  Attempting uninstall: nvidia-cudnn-cu12\n",
            "    Found existing installation: nvidia-cudnn-cu12 9.3.0.75\n",
            "    Uninstalling nvidia-cudnn-cu12-9.3.0.75:\n",
            "      Successfully uninstalled nvidia-cudnn-cu12-9.3.0.75\n",
            "  Attempting uninstall: nvidia-cusolver-cu12\n",
            "    Found existing installation: nvidia-cusolver-cu12 11.6.3.83\n",
            "    Uninstalling nvidia-cusolver-cu12-11.6.3.83:\n",
            "      Successfully uninstalled nvidia-cusolver-cu12-11.6.3.83\n",
            "Successfully installed nvidia-cublas-cu12-12.4.5.8 nvidia-cuda-cupti-cu12-12.4.127 nvidia-cuda-nvrtc-cu12-12.4.127 nvidia-cuda-runtime-cu12-12.4.127 nvidia-cudnn-cu12-9.1.0.70 nvidia-cufft-cu12-11.2.1.3 nvidia-curand-cu12-10.3.5.147 nvidia-cusolver-cu12-11.6.1.9 nvidia-cusparse-cu12-12.3.1.170 nvidia-nvjitlink-cu12-12.4.127\n",
            "Requirement already satisfied: matplotlib in /usr/local/lib/python3.11/dist-packages (3.10.0)\n",
            "Requirement already satisfied: contourpy>=1.0.1 in /usr/local/lib/python3.11/dist-packages (from matplotlib) (1.3.2)\n",
            "Requirement already satisfied: cycler>=0.10 in /usr/local/lib/python3.11/dist-packages (from matplotlib) (0.12.1)\n",
            "Requirement already satisfied: fonttools>=4.22.0 in /usr/local/lib/python3.11/dist-packages (from matplotlib) (4.58.4)\n",
            "Requirement already satisfied: kiwisolver>=1.3.1 in /usr/local/lib/python3.11/dist-packages (from matplotlib) (1.4.8)\n",
            "Requirement already satisfied: numpy>=1.23 in /usr/local/lib/python3.11/dist-packages (from matplotlib) (2.0.2)\n",
            "Requirement already satisfied: packaging>=20.0 in /usr/local/lib/python3.11/dist-packages (from matplotlib) (24.2)\n",
            "Requirement already satisfied: pillow>=8 in /usr/local/lib/python3.11/dist-packages (from matplotlib) (11.2.1)\n",
            "Requirement already satisfied: pyparsing>=2.3.1 in /usr/local/lib/python3.11/dist-packages (from matplotlib) (3.2.3)\n",
            "Requirement already satisfied: python-dateutil>=2.7 in /usr/local/lib/python3.11/dist-packages (from matplotlib) (2.9.0.post0)\n",
            "Requirement already satisfied: six>=1.5 in /usr/local/lib/python3.11/dist-packages (from python-dateutil>=2.7->matplotlib) (1.17.0)\n"
          ]
        }
      ],
      "source": [
        "!pip install opencv-python-headless\n",
        "!pip install snntorch\n",
        "!pip install torch torchvision\n",
        "!pip install matplotlib\n",
        "import cv2\n",
        "import numpy as np\n",
        "import torch\n",
        "import snntorch as snn\n",
        "from snntorch import surrogate\n",
        "from snntorch import utils\n",
        "import matplotlib.pyplot as plt\n",
        "import torchvision.transforms as transforms\n",
        "from google.colab import files\n",
        "%matplotlib inline"
      ]
    },
    {
      "cell_type": "code",
      "source": [
        "uploaded = files.upload()\n",
        "video_filename = list(uploaded.keys())[0]\n",
        "print(f\"Uploaded video: {video_filename}\")"
      ],
      "metadata": {
        "colab": {
          "base_uri": "https://localhost:8080/",
          "height": 89
        },
        "id": "ZMVKprMaHnGb",
        "outputId": "12b936b3-caf2-4d3b-dec6-0e25d06a603e"
      },
      "execution_count": 3,
      "outputs": [
        {
          "output_type": "display_data",
          "data": {
            "text/plain": [
              "<IPython.core.display.HTML object>"
            ],
            "text/html": [
              "\n",
              "     <input type=\"file\" id=\"files-4eba3180-08cb-429e-9d97-3a550a73ca57\" name=\"files[]\" multiple disabled\n",
              "        style=\"border:none\" />\n",
              "     <output id=\"result-4eba3180-08cb-429e-9d97-3a550a73ca57\">\n",
              "      Upload widget is only available when the cell has been executed in the\n",
              "      current browser session. Please rerun this cell to enable.\n",
              "      </output>\n",
              "      <script>// Copyright 2017 Google LLC\n",
              "//\n",
              "// Licensed under the Apache License, Version 2.0 (the \"License\");\n",
              "// you may not use this file except in compliance with the License.\n",
              "// You may obtain a copy of the License at\n",
              "//\n",
              "//      http://www.apache.org/licenses/LICENSE-2.0\n",
              "//\n",
              "// Unless required by applicable law or agreed to in writing, software\n",
              "// distributed under the License is distributed on an \"AS IS\" BASIS,\n",
              "// WITHOUT WARRANTIES OR CONDITIONS OF ANY KIND, either express or implied.\n",
              "// See the License for the specific language governing permissions and\n",
              "// limitations under the License.\n",
              "\n",
              "/**\n",
              " * @fileoverview Helpers for google.colab Python module.\n",
              " */\n",
              "(function(scope) {\n",
              "function span(text, styleAttributes = {}) {\n",
              "  const element = document.createElement('span');\n",
              "  element.textContent = text;\n",
              "  for (const key of Object.keys(styleAttributes)) {\n",
              "    element.style[key] = styleAttributes[key];\n",
              "  }\n",
              "  return element;\n",
              "}\n",
              "\n",
              "// Max number of bytes which will be uploaded at a time.\n",
              "const MAX_PAYLOAD_SIZE = 100 * 1024;\n",
              "\n",
              "function _uploadFiles(inputId, outputId) {\n",
              "  const steps = uploadFilesStep(inputId, outputId);\n",
              "  const outputElement = document.getElementById(outputId);\n",
              "  // Cache steps on the outputElement to make it available for the next call\n",
              "  // to uploadFilesContinue from Python.\n",
              "  outputElement.steps = steps;\n",
              "\n",
              "  return _uploadFilesContinue(outputId);\n",
              "}\n",
              "\n",
              "// This is roughly an async generator (not supported in the browser yet),\n",
              "// where there are multiple asynchronous steps and the Python side is going\n",
              "// to poll for completion of each step.\n",
              "// This uses a Promise to block the python side on completion of each step,\n",
              "// then passes the result of the previous step as the input to the next step.\n",
              "function _uploadFilesContinue(outputId) {\n",
              "  const outputElement = document.getElementById(outputId);\n",
              "  const steps = outputElement.steps;\n",
              "\n",
              "  const next = steps.next(outputElement.lastPromiseValue);\n",
              "  return Promise.resolve(next.value.promise).then((value) => {\n",
              "    // Cache the last promise value to make it available to the next\n",
              "    // step of the generator.\n",
              "    outputElement.lastPromiseValue = value;\n",
              "    return next.value.response;\n",
              "  });\n",
              "}\n",
              "\n",
              "/**\n",
              " * Generator function which is called between each async step of the upload\n",
              " * process.\n",
              " * @param {string} inputId Element ID of the input file picker element.\n",
              " * @param {string} outputId Element ID of the output display.\n",
              " * @return {!Iterable<!Object>} Iterable of next steps.\n",
              " */\n",
              "function* uploadFilesStep(inputId, outputId) {\n",
              "  const inputElement = document.getElementById(inputId);\n",
              "  inputElement.disabled = false;\n",
              "\n",
              "  const outputElement = document.getElementById(outputId);\n",
              "  outputElement.innerHTML = '';\n",
              "\n",
              "  const pickedPromise = new Promise((resolve) => {\n",
              "    inputElement.addEventListener('change', (e) => {\n",
              "      resolve(e.target.files);\n",
              "    });\n",
              "  });\n",
              "\n",
              "  const cancel = document.createElement('button');\n",
              "  inputElement.parentElement.appendChild(cancel);\n",
              "  cancel.textContent = 'Cancel upload';\n",
              "  const cancelPromise = new Promise((resolve) => {\n",
              "    cancel.onclick = () => {\n",
              "      resolve(null);\n",
              "    };\n",
              "  });\n",
              "\n",
              "  // Wait for the user to pick the files.\n",
              "  const files = yield {\n",
              "    promise: Promise.race([pickedPromise, cancelPromise]),\n",
              "    response: {\n",
              "      action: 'starting',\n",
              "    }\n",
              "  };\n",
              "\n",
              "  cancel.remove();\n",
              "\n",
              "  // Disable the input element since further picks are not allowed.\n",
              "  inputElement.disabled = true;\n",
              "\n",
              "  if (!files) {\n",
              "    return {\n",
              "      response: {\n",
              "        action: 'complete',\n",
              "      }\n",
              "    };\n",
              "  }\n",
              "\n",
              "  for (const file of files) {\n",
              "    const li = document.createElement('li');\n",
              "    li.append(span(file.name, {fontWeight: 'bold'}));\n",
              "    li.append(span(\n",
              "        `(${file.type || 'n/a'}) - ${file.size} bytes, ` +\n",
              "        `last modified: ${\n",
              "            file.lastModifiedDate ? file.lastModifiedDate.toLocaleDateString() :\n",
              "                                    'n/a'} - `));\n",
              "    const percent = span('0% done');\n",
              "    li.appendChild(percent);\n",
              "\n",
              "    outputElement.appendChild(li);\n",
              "\n",
              "    const fileDataPromise = new Promise((resolve) => {\n",
              "      const reader = new FileReader();\n",
              "      reader.onload = (e) => {\n",
              "        resolve(e.target.result);\n",
              "      };\n",
              "      reader.readAsArrayBuffer(file);\n",
              "    });\n",
              "    // Wait for the data to be ready.\n",
              "    let fileData = yield {\n",
              "      promise: fileDataPromise,\n",
              "      response: {\n",
              "        action: 'continue',\n",
              "      }\n",
              "    };\n",
              "\n",
              "    // Use a chunked sending to avoid message size limits. See b/62115660.\n",
              "    let position = 0;\n",
              "    do {\n",
              "      const length = Math.min(fileData.byteLength - position, MAX_PAYLOAD_SIZE);\n",
              "      const chunk = new Uint8Array(fileData, position, length);\n",
              "      position += length;\n",
              "\n",
              "      const base64 = btoa(String.fromCharCode.apply(null, chunk));\n",
              "      yield {\n",
              "        response: {\n",
              "          action: 'append',\n",
              "          file: file.name,\n",
              "          data: base64,\n",
              "        },\n",
              "      };\n",
              "\n",
              "      let percentDone = fileData.byteLength === 0 ?\n",
              "          100 :\n",
              "          Math.round((position / fileData.byteLength) * 100);\n",
              "      percent.textContent = `${percentDone}% done`;\n",
              "\n",
              "    } while (position < fileData.byteLength);\n",
              "  }\n",
              "\n",
              "  // All done.\n",
              "  yield {\n",
              "    response: {\n",
              "      action: 'complete',\n",
              "    }\n",
              "  };\n",
              "}\n",
              "\n",
              "scope.google = scope.google || {};\n",
              "scope.google.colab = scope.google.colab || {};\n",
              "scope.google.colab._files = {\n",
              "  _uploadFiles,\n",
              "  _uploadFilesContinue,\n",
              "};\n",
              "})(self);\n",
              "</script> "
            ]
          },
          "metadata": {}
        },
        {
          "output_type": "stream",
          "name": "stdout",
          "text": [
            "Saving v-2.mp4 to v-2.mp4\n",
            "Uploaded video: v-2.mp4\n"
          ]
        }
      ]
    },
    {
      "cell_type": "code",
      "source": [
        "def preprocess_frame(frame, target_size=(128, 128)):\n",
        "    frame_resized = cv2.resize(frame, target_size)\n",
        "    frame_gray = cv2.cvtColor(frame_resized, cv2.COLOR_BGR2GRAY)\n",
        "    frame_normalized = frame_gray / 255.0\n",
        "    return frame_normalized\n",
        "\n",
        "cap = cv2.VideoCapture(video_filename)\n",
        "if not cap.isOpened():\n",
        "    print(\"Error: Could not open video.\")\n",
        "    exit()\n",
        "\n",
        "preprocessed_frames = []\n",
        "while True:\n",
        "    ret, frame = cap.read()\n",
        "    if not ret:\n",
        "        break\n",
        "    preprocessed_frame = preprocess_frame(frame)\n",
        "    preprocessed_frames.append(preprocessed_frame)\n",
        "\n",
        "cap.release()\n",
        "print(f\"Total frames extracted: {len(preprocessed_frames)}\")\n",
        "\n",
        "frames_tensor = torch.tensor(preprocessed_frames).float().unsqueeze(1)\n",
        "print(f\"Frames tensor shape: {frames_tensor.shape}\")"
      ],
      "metadata": {
        "id": "2-T322y7IpOo",
        "outputId": "55251b49-0df1-437e-c4a6-05261a9d7be5",
        "colab": {
          "base_uri": "https://localhost:8080/"
        }
      },
      "execution_count": 4,
      "outputs": [
        {
          "output_type": "stream",
          "name": "stdout",
          "text": [
            "Total frames extracted: 945\n",
            "Frames tensor shape: torch.Size([945, 1, 128, 128])\n"
          ]
        },
        {
          "output_type": "stream",
          "name": "stderr",
          "text": [
            "/tmp/ipython-input-4-1722602320.py:23: UserWarning: Creating a tensor from a list of numpy.ndarrays is extremely slow. Please consider converting the list to a single numpy.ndarray with numpy.array() before converting to a tensor. (Triggered internally at /pytorch/torch/csrc/utils/tensor_new.cpp:254.)\n",
            "  frames_tensor = torch.tensor(preprocessed_frames).float().unsqueeze(1)\n"
          ]
        }
      ]
    },
    {
      "cell_type": "code",
      "source": [
        "def detect_fruits_in_frame(frame, lower_red1, upper_red1, lower_red2, upper_red2):\n",
        "    hsv_frame = cv2.cvtColor(frame, cv2.COLOR_BGR2HSV)\n",
        "    mask1 = cv2.inRange(hsv_frame, lower_red1, upper_red1)\n",
        "    mask2 = cv2.inRange(hsv_frame, lower_red2, upper_red2)\n",
        "    mask = cv2.bitwise_or(mask1, mask2)\n",
        "    kernel = np.ones((3,3), np.uint8)\n",
        "    mask = cv2.morphologyEx(mask, cv2.MORPH_OPEN, kernel, iterations=1)\n",
        "    mask = cv2.morphologyEx(mask, cv2.MORPH_CLOSE, kernel, iterations=1)\n",
        "    contours, _ = cv2.findContours(mask, cv2.RETR_EXTERNAL, cv2.CHAIN_APPROX_SIMPLE)\n",
        "    boxes = []\n",
        "    for contour in contours:\n",
        "        area = cv2.contourArea(contour)\n",
        "        if area > 100:\n",
        "            x, y, w, h = cv2.boundingRect(contour)\n",
        "            boxes.append((x, y, w, h))\n",
        "    return boxes\n",
        "lower_red1 = np.array([0, 100, 50])\n",
        "upper_red1 = np.array([15, 255, 255])\n",
        "lower_red2 = np.array([165, 100, 50])\n",
        "upper_red2 = np.array([180, 255, 255])\n",
        "\n",
        "cap = cv2.VideoCapture(video_filename)\n",
        "frame_count = 0\n",
        "fruit_counts_per_frame = []\n",
        "detected_boxes_per_frame = []\n",
        "\n",
        "while True:\n",
        "    ret, frame = cap.read()\n",
        "    if not ret:\n",
        "        break\n",
        "    boxes = detect_fruits_in_frame(frame, lower_red1, upper_red1, lower_red2, upper_red2)\n",
        "    fruit_counts_per_frame.append(len(boxes))\n",
        "    detected_boxes_per_frame.append(boxes)\n",
        "\n",
        "    # Draw bounding boxes\n",
        "    frame_with_boxes = frame.copy()\n",
        "    for (x, y, w, h) in boxes:\n",
        "        cv2.rectangle(frame_with_boxes, (x, y), (x + w, y + h), (0, 255, 0), 2)\n",
        "        cv2.putText(frame_with_boxes, \"Apple\", (x, y - 10),\n",
        "                    cv2.FONT_HERSHEY_SIMPLEX, 0.5, (0, 255, 0), 2)\n",
        "\n",
        "    cv2.imwrite(f\"frame_{frame_count}_detected.jpg\", frame_with_boxes)\n",
        "    frame_count += 1\n",
        "\n",
        "cap.release()\n",
        "print(f\"Fruit counts per frame: {fruit_counts_per_frame}\")\n",
        "print(f\"Total fruits detected: {sum(fruit_counts_per_frame)}\")"
      ],
      "metadata": {
        "id": "sDJlZIypI5eW",
        "outputId": "1a910618-7175-4e1b-af1a-11cfbd355ddb",
        "colab": {
          "base_uri": "https://localhost:8080/"
        }
      },
      "execution_count": 5,
      "outputs": [
        {
          "output_type": "stream",
          "name": "stdout",
          "text": [
            "Fruit counts per frame: [37, 39, 38, 38, 38, 38, 37, 38, 37, 37, 37, 39, 37, 38, 38, 38, 39, 39, 39, 38, 38, 40, 39, 38, 40, 40, 39, 39, 39, 39, 40, 40, 40, 39, 38, 39, 39, 39, 39, 40, 41, 38, 41, 40, 41, 39, 38, 39, 40, 39, 41, 39, 39, 39, 39, 40, 41, 40, 40, 39, 38, 39, 38, 39, 39, 39, 40, 41, 38, 37, 38, 40, 37, 38, 40, 39, 38, 38, 38, 40, 38, 39, 38, 38, 37, 39, 39, 38, 37, 37, 39, 38, 37, 36, 37, 36, 36, 34, 37, 37, 37, 36, 38, 37, 37, 37, 38, 36, 36, 36, 37, 37, 38, 37, 37, 39, 39, 37, 38, 39, 37, 38, 38, 37, 38, 38, 37, 39, 37, 38, 40, 39, 39, 39, 37, 39, 39, 39, 39, 37, 37, 37, 37, 38, 38, 38, 39, 37, 40, 40, 38, 38, 37, 37, 39, 39, 37, 39, 38, 38, 39, 37, 39, 38, 37, 39, 37, 39, 36, 39, 40, 39, 37, 39, 36, 38, 39, 39, 38, 37, 38, 37, 37, 40, 38, 40, 37, 39, 39, 38, 39, 40, 38, 41, 38, 40, 38, 38, 39, 37, 38, 38, 39, 38, 38, 39, 39, 39, 40, 37, 38, 39, 38, 39, 39, 38, 40, 39, 39, 40, 39, 40, 41, 39, 39, 40, 41, 40, 40, 39, 42, 41, 41, 41, 41, 42, 41, 41, 42, 41, 41, 40, 41, 42, 41, 41, 42, 42, 42, 42, 40, 42, 42, 42, 42, 42, 41, 41, 41, 40, 41, 41, 41, 39, 40, 39, 39, 38, 39, 38, 40, 40, 40, 41, 41, 41, 41, 39, 40, 40, 40, 40, 41, 40, 42, 40, 40, 41, 40, 40, 42, 42, 43, 41, 43, 42, 43, 42, 43, 43, 42, 43, 42, 40, 38, 41, 39, 39, 40, 40, 40, 41, 41, 43, 40, 43, 41, 42, 42, 43, 43, 41, 41, 42, 42, 41, 40, 42, 39, 41, 41, 41, 41, 41, 40, 42, 42, 39, 41, 39, 40, 39, 40, 40, 41, 41, 42, 41, 41, 41, 43, 41, 42, 41, 42, 41, 42, 41, 42, 40, 41, 42, 41, 41, 41, 41, 39, 41, 38, 40, 37, 38, 37, 38, 38, 38, 38, 37, 38, 37, 38, 38, 37, 37, 39, 36, 37, 41, 38, 40, 38, 36, 36, 37, 37, 36, 37, 37, 40, 39, 38, 38, 38, 40, 38, 38, 37, 38, 36, 37, 36, 34, 36, 35, 36, 36, 39, 36, 37, 36, 36, 36, 37, 37, 38, 36, 37, 36, 36, 35, 34, 36, 35, 35, 34, 37, 33, 36, 34, 35, 33, 35, 31, 33, 32, 35, 32, 34, 33, 33, 33, 32, 33, 32, 33, 31, 34, 33, 34, 33, 32, 34, 31, 33, 33, 34, 33, 35, 34, 34, 36, 34, 37, 33, 36, 31, 34, 35, 34, 34, 33, 34, 34, 35, 35, 37, 35, 36, 36, 36, 35, 36, 35, 37, 35, 38, 38, 37, 38, 36, 34, 37, 38, 37, 40, 40, 38, 38, 37, 38, 39, 38, 40, 38, 40, 36, 40, 36, 37, 36, 38, 36, 35, 36, 37, 37, 38, 37, 37, 35, 37, 37, 35, 39, 38, 38, 37, 37, 37, 36, 34, 36, 33, 34, 34, 37, 36, 37, 35, 35, 34, 35, 34, 34, 33, 33, 33, 34, 33, 34, 33, 34, 34, 34, 34, 33, 35, 34, 33, 34, 33, 34, 32, 33, 33, 33, 34, 32, 34, 32, 32, 32, 33, 33, 33, 30, 31, 30, 29, 30, 30, 31, 33, 30, 29, 31, 30, 30, 30, 30, 27, 29, 28, 28, 27, 29, 31, 29, 30, 31, 29, 31, 29, 31, 29, 29, 28, 27, 30, 26, 28, 28, 27, 28, 29, 28, 29, 29, 28, 28, 29, 29, 29, 27, 29, 27, 26, 28, 28, 25, 28, 28, 25, 27, 26, 26, 26, 25, 25, 25, 26, 26, 26, 25, 26, 26, 26, 25, 26, 27, 25, 26, 26, 25, 26, 24, 25, 25, 24, 26, 25, 25, 27, 27, 27, 27, 26, 27, 27, 26, 26, 26, 27, 27, 27, 27, 27, 28, 27, 29, 27, 29, 28, 28, 29, 27, 31, 27, 29, 27, 29, 27, 30, 27, 29, 27, 28, 27, 29, 28, 28, 28, 27, 26, 26, 26, 25, 25, 26, 25, 27, 27, 27, 27, 26, 27, 26, 27, 25, 29, 29, 29, 26, 27, 27, 28, 27, 28, 27, 29, 27, 27, 27, 27, 28, 27, 28, 27, 27, 27, 26, 27, 28, 27, 27, 29, 28, 28, 28, 28, 27, 27, 28, 28, 29, 28, 30, 28, 30, 28, 30, 29, 30, 28, 30, 30, 31, 31, 29, 32, 29, 31, 32, 31, 29, 30, 31, 30, 30, 31, 30, 30, 29, 31, 28, 32, 28, 29, 29, 30, 30, 30, 30, 30, 29, 30, 29, 30, 30, 29, 30, 30, 30, 30, 30, 30, 30, 31, 31, 31, 32, 32, 31, 31, 31, 32, 31, 31, 32, 31, 30, 32, 30, 30, 32, 31, 31, 32, 31, 32, 31, 32, 31, 32, 31, 31, 31, 31, 30, 31, 32, 31, 32, 30, 31, 30, 32, 30, 32, 31, 31, 32, 30, 31, 32, 31, 33, 31, 33, 32, 32, 32, 32, 32, 32, 33, 33, 31, 32, 30, 33, 31, 33, 33, 33, 34, 34, 33, 34, 32, 32, 32, 32, 32, 31, 33, 32, 33, 32, 34, 32, 34, 34, 35, 34, 34, 32, 34, 33, 31, 34, 33, 32, 33, 32, 33, 31, 33, 35, 34, 36, 35, 34, 34, 34, 35, 33, 35, 33, 33, 33, 34, 32, 33, 34, 34, 34, 34, 33, 34, 35, 36, 35, 35, 33]\n",
            "Total fruits detected: 32859\n"
          ]
        }
      ]
    },
    {
      "cell_type": "code",
      "source": [
        "cap = cv2.VideoCapture(video_filename)\n",
        "frame_count = 0\n",
        "fruit_counts_per_frame = []\n",
        "detected_boxes_per_frame = []\n",
        "\n",
        "while True:\n",
        "    ret, frame = cap.read()\n",
        "    if not ret:\n",
        "        break\n",
        "    boxes = detect_fruits_in_frame(frame, lower_red1, upper_red1, lower_red2, upper_red2)\n",
        "    fruit_counts_per_frame.append(len(boxes))\n",
        "    detected_boxes_per_frame.append(boxes)  # List of (x, y, w, h) per frame\n",
        "    frame_count += 1\n",
        "\n",
        "cap.release()\n"
      ],
      "metadata": {
        "id": "rPVu0BGDI-xc"
      },
      "execution_count": 6,
      "outputs": []
    },
    {
      "cell_type": "code",
      "source": [
        "num_inputs = 128 * 128\n",
        "num_hidden = 512\n",
        "num_outputs = 1\n",
        "num_steps = 25\n",
        "beta = 0.95\n",
        "\n",
        "class FruitDetectionSNN(torch.nn.Module):\n",
        "    def __init__(self):\n",
        "        super(FruitDetectionSNN, self).__init__()\n",
        "        self.fc1 = torch.nn.Linear(num_inputs, num_hidden)\n",
        "        self.lif1 = snn.Leaky(beta=beta, spike_grad=surrogate.fast_sigmoid())\n",
        "        self.fc2 = torch.nn.Linear(num_hidden, num_outputs)\n",
        "        self.lif2 = snn.Leaky(beta=beta, spike_grad=surrogate.fast_sigmoid())\n",
        "\n",
        "    def forward(self, x):\n",
        "        mem1 = self.lif1.init_leaky()\n",
        "        mem2 = self.lif2.init_leaky()\n",
        "        spk2_rec = []\n",
        "        for step in range(num_steps):\n",
        "            cur1 = self.fc1(x)\n",
        "            spk1, mem1 = self.lif1(cur1, mem1)\n",
        "            cur2 = self.fc2(spk1)\n",
        "            spk2, mem2 = self.lif2(cur2, mem2)\n",
        "            spk2_rec.append(spk2)\n",
        "        return torch.stack(spk2_rec)\n",
        "\n",
        "device = torch.device(\"cuda\" if torch.cuda.is_available() else \"cpu\")\n",
        "snn_model = FruitDetectionSNN().to(device)\n",
        "print(\"SNN model defined.\")"
      ],
      "metadata": {
        "id": "Fd7lqVZCJGop",
        "outputId": "881fe9dc-bd35-448d-807f-3158e1c6222f",
        "colab": {
          "base_uri": "https://localhost:8080/"
        }
      },
      "execution_count": 7,
      "outputs": [
        {
          "output_type": "stream",
          "name": "stdout",
          "text": [
            "SNN model defined.\n"
          ]
        }
      ]
    },
    {
      "cell_type": "code",
      "source": [
        "def frames_to_spikes(frames_tensor, num_steps):\n",
        "    torch.manual_seed(42)\n",
        "    spike_trains = []\n",
        "    for t in range(num_steps):\n",
        "        spikes = torch.rand(frames_tensor.shape) < frames_tensor\n",
        "        spike_trains.append(spikes.float())\n",
        "    return torch.stack(spike_trains)\n",
        "\n",
        "spike_trains = frames_to_spikes(frames_tensor, num_steps)\n",
        "print(f\"Spike trains shape: {spike_trains.shape}\")"
      ],
      "metadata": {
        "id": "1QZCeK-fJLAP",
        "outputId": "f319ab0d-b55d-4fee-ff07-1c50aaac62ce",
        "colab": {
          "base_uri": "https://localhost:8080/"
        }
      },
      "execution_count": 8,
      "outputs": [
        {
          "output_type": "stream",
          "name": "stdout",
          "text": [
            "Spike trains shape: torch.Size([25, 945, 1, 128, 128])\n"
          ]
        }
      ]
    },
    {
      "cell_type": "code",
      "source": [
        "def plot_spike_raster(spike_data, frame_idx=0, neuron_sample=100):\n",
        "\n",
        "    spikes = spike_data[:, frame_idx, 0].flatten(start_dim=1)\n",
        "\n",
        "\n",
        "    if spikes.shape[1] > neuron_sample:\n",
        "        spikes = spikes[:, ::spikes.shape[1]//neuron_sample]\n",
        "\n",
        "\n",
        "    plt.figure(figsize=(10, 5))\n",
        "    for neuron in range(spikes.shape[1]):\n",
        "        spike_times = np.where(spikes[:, neuron].cpu().numpy() > 0)[0]\n",
        "        plt.vlines(spike_times, neuron-0.5, neuron+0.5, color='black', linewidth=0.5)\n",
        "\n",
        "    plt.xlabel('Time Step')\n",
        "    plt.ylabel('Neuron Index')\n",
        "    plt.title(f'Spike Raster Plot (Frame {frame_idx})')\n",
        "    plt.yticks([])\n",
        "    plt.show()\n",
        "\n",
        "plot_spike_raster(spike_trains, frame_idx=0)"
      ],
      "metadata": {
        "id": "wGTk6Xp_JP6m",
        "outputId": "1409be02-6ec9-4619-cfa5-7660ddfb68f0",
        "colab": {
          "base_uri": "https://localhost:8080/",
          "height": 487
        }
      },
      "execution_count": 9,
      "outputs": [
        {
          "output_type": "display_data",
          "data": {
            "text/plain": [
              "<Figure size 1000x500 with 1 Axes>"
            ],
            "image/png": "[encoded data removed]"
          },
          "metadata": {}
        }
      ]
    },
    {
      "cell_type": "code",
      "source": [
        "spikes = torch.rand(frames_tensor.shape) < frames_tensor"
      ],
      "metadata": {
        "id": "xybMO0ulJTDR"
      },
      "execution_count": null,
      "outputs": []
    },
    {
      "cell_type": "code",
      "source": [
        "snn_outputs = []\n",
        "for frame_idx in range(spike_trains.shape[1]):\n",
        "    frame_spikes = spike_trains[:, frame_idx, 0, :, :].to(device)\n",
        "    frame_spikes_flat = frame_spikes.view(num_steps, -1)\n",
        "    spk = snn_model(frame_spikes_flat)\n",
        "    confidence = spk.sum().item() / num_steps\n",
        "    snn_outputs.append(confidence)\n",
        "\n",
        "print(f\"SNN confidence scores per frame: {snn_outputs}\")"
      ],
      "metadata": {
        "id": "PhIfeRmnJXMB",
        "outputId": "a7ffbc5c-21c0-4fd2-9a1b-09d23edeb56d",
        "colab": {
          "base_uri": "https://localhost:8080/"
        }
      },
      "execution_count": 10,
      "outputs": [
        {
          "output_type": "stream",
          "name": "stdout",
          "text": [
            "SNN confidence scores per frame: [0.48, 0.2, 0.24, 0.2, 0.2, 0.0, 0.04, 0.04, 0.16, 0.08, 0.24, 0.04, 0.04, 0.08, 0.16, 0.16, 0.24, 0.16, 0.08, 0.0, 0.04, 0.2, 0.08, 0.04, 0.04, 0.08, 0.0, 0.08, 0.04, 0.12, 0.08, 0.2, 0.32, 0.0, 0.16, 0.2, 0.24, 0.08, 0.12, 0.08, 0.24, 0.28, 0.2, 0.12, 0.24, 0.36, 0.48, 0.08, 0.2, 0.28, 0.28, 0.08, 0.04, 0.16, 0.04, 0.2, 0.0, 0.2, 0.0, 0.0, 0.04, 0.04, 0.2, 0.04, 0.08, 0.08, 0.16, 0.04, 0.08, 0.12, 0.08, 0.04, 0.0, 0.04, 0.0, 0.0, 0.04, 0.12, 0.16, 0.12, 0.04, 0.08, 0.0, 0.2, 0.0, 0.0, 0.2, 0.08, 0.12, 0.0, 0.0, 0.0, 0.12, 0.04, 0.12, 0.08, 0.08, 0.2, 0.2, 0.04, 0.08, 0.08, 0.04, 0.0, 0.16, 0.12, 0.04, 0.12, 0.04, 0.0, 0.0, 0.12, 0.0, 0.08, 0.24, 0.0, 0.12, 0.12, 0.16, 0.08, 0.04, 0.04, 0.04, 0.16, 0.0, 0.08, 0.2, 0.0, 0.04, 0.0, 0.32, 0.04, 0.0, 0.12, 0.0, 0.04, 0.32, 0.16, 0.12, 0.12, 0.12, 0.2, 0.12, 0.04, 0.12, 0.08, 0.0, 0.28, 0.08, 0.28, 0.0, 0.0, 0.04, 0.12, 0.04, 0.04, 0.0, 0.08, 0.16, 0.2, 0.08, 0.28, 0.16, 0.16, 0.16, 0.0, 0.04, 0.44, 0.08, 0.08, 0.16, 0.0, 0.04, 0.32, 0.24, 0.0, 0.28, 0.28, 0.12, 0.56, 0.56, 0.28, 0.56, 0.4, 0.2, 0.28, 0.12, 0.16, 0.32, 0.28, 0.4, 0.24, 0.28, 0.64, 0.4, 0.28, 0.44, 0.32, 0.52, 0.48, 0.44, 0.48, 0.2, 0.28, 0.16, 0.08, 0.24, 0.16, 0.08, 0.28, 0.28, 0.12, 0.16, 0.12, 0.12, 0.08, 0.04, 0.04, 0.0, 0.12, 0.08, 0.12, 0.12, 0.04, 0.2, 0.08, 0.04, 0.0, 0.16, 0.04, 0.12, 0.16, 0.16, 0.12, 0.04, 0.0, 0.16, 0.36, 0.48, 0.2, 0.08, 0.28, 0.04, 0.0, 0.0, 0.04, 0.32, 0.36, 0.24, 0.24, 0.12, 0.12, 0.12, 0.08, 0.12, 0.16, 0.16, 0.04, 0.0, 0.24, 0.08, 0.08, 0.0, 0.04, 0.04, 0.12, 0.04, 0.16, 0.04, 0.2, 0.32, 0.24, 0.12, 0.04, 0.28, 0.16, 0.4, 0.12, 0.0, 0.0, 0.08, 0.16, 0.04, 0.0, 0.0, 0.04, 0.08, 0.08, 0.12, 0.04, 0.08, 0.2, 0.04, 0.28, 0.08, 0.36, 0.08, 0.0, 0.04, 0.24, 0.08, 0.08, 0.04, 0.08, 0.2, 0.04, 0.44, 0.04, 0.08, 0.0, 0.0, 0.28, 0.2, 0.16, 0.24, 0.28, 0.12, 0.12, 0.28, 0.12, 0.12, 0.04, 0.08, 0.16, 0.04, 0.12, 0.08, 0.08, 0.12, 0.08, 0.16, 0.04, 0.08, 0.24, 0.04, 0.0, 0.16, 0.08, 0.16, 0.08, 0.16, 0.12, 0.12, 0.08, 0.0, 0.08, 0.08, 0.12, 0.0, 0.08, 0.08, 0.0, 0.24, 0.32, 0.16, 0.24, 0.12, 0.0, 0.0, 0.08, 0.12, 0.24, 0.32, 0.08, 0.2, 0.16, 0.36, 0.76, 0.32, 0.52, 0.36, 0.08, 0.28, 0.0, 0.12, 0.04, 0.0, 0.08, 0.0, 0.2, 0.0, 0.16, 0.24, 0.04, 0.12, 0.12, 0.2, 0.24, 0.04, 0.08, 0.04, 0.08, 0.44, 0.16, 0.12, 0.24, 0.04, 0.08, 0.24, 0.08, 0.2, 0.08, 0.2, 0.28, 0.48, 0.28, 0.52, 0.36, 0.52, 0.48, 0.48, 0.24, 0.2, 0.04, 0.28, 0.24, 0.16, 0.04, 0.0, 0.28, 0.08, 0.24, 0.36, 0.24, 0.68, 0.48, 0.24, 0.08, 0.0, 0.48, 0.28, 0.36, 0.2, 0.36, 0.08, 0.44, 0.2, 0.2, 0.24, 0.4, 0.32, 0.6, 0.12, 0.32, 0.24, 0.2, 0.12, 0.32, 0.04, 0.08, 0.0, 0.16, 0.44, 0.48, 0.6, 1.28, 1.16, 1.0, 0.96, 0.84, 1.0, 0.76, 0.36, 1.36, 0.92, 0.56, 0.96, 1.0, 0.56, 0.92, 0.44, 0.28, 1.0, 0.68, 0.56, 0.56, 0.96, 0.36, 0.48, 0.28, 0.24, 0.6, 0.08, 0.16, 0.16, 0.28, 0.4, 0.52, 0.96, 0.52, 0.16, 0.4, 0.2, 0.64, 0.36, 0.2, 0.04, 0.08, 0.04, 0.12, 0.16, 0.12, 0.0, 0.16, 0.16, 0.2, 0.04, 0.08, 0.04, 0.08, 0.12, 0.0, 0.24, 0.12, 0.08, 0.12, 0.08, 0.24, 0.12, 0.0, 0.28, 0.24, 0.28, 0.2, 0.08, 0.08, 0.16, 0.0, 0.12, 0.04, 0.0, 0.04, 0.04, 0.08, 0.04, 0.08, 0.08, 0.12, 0.36, 0.12, 0.08, 0.28, 0.2, 0.4, 0.56, 0.56, 0.32, 0.44, 0.32, 0.2, 0.24, 0.12, 0.12, 0.08, 0.0, 0.04, 0.04, 0.12, 0.16, 0.04, 0.04, 0.16, 0.32, 0.16, 0.68, 0.28, 0.24, 0.16, 0.04, 0.12, 0.04, 0.12, 0.16, 0.36, 0.04, 0.32, 0.28, 0.28, 0.08, 0.24, 0.96, 0.24, 0.4, 0.36, 0.24, 0.16, 0.36, 0.36, 0.4, 0.68, 0.16, 0.12, 0.2, 0.0, 0.32, 0.44, 0.2, 0.36, 0.24, 0.44, 0.28, 0.32, 0.64, 0.48, 0.28, 0.16, 0.04, 0.04, 0.16, 0.0, 0.16, 0.24, 0.12, 0.2, 0.4, 0.72, 1.24, 0.52, 0.2, 0.12, 0.24, 0.52, 0.04, 0.16, 0.2, 0.04, 0.24, 0.12, 0.32, 0.28, 0.08, 0.28, 0.28, 0.36, 0.36, 0.76, 0.48, 0.44, 0.2, 0.0, 0.04, 0.12, 0.04, 0.08, 0.24, 0.0, 0.08, 0.08, 0.08, 0.2, 0.52, 0.84, 0.52, 0.4, 0.0, 0.64, 0.32, 0.16, 0.24, 0.48, 0.64, 0.96, 0.56, 0.52, 0.44, 0.16, 0.72, 0.52, 0.48, 0.36, 0.32, 0.28, 0.04, 0.2, 0.16, 0.12, 0.16, 0.08, 0.2, 0.64, 0.6, 0.4, 0.24, 0.28, 0.44, 0.4, 0.48, 0.2, 0.6, 0.92, 0.48, 1.04, 1.0, 0.72, 0.36, 0.16, 0.68, 0.44, 0.2, 0.28, 0.24, 0.08, 0.16, 0.24, 0.28, 0.28, 0.44, 0.28, 0.16, 0.24, 0.28, 0.32, 0.2, 0.16, 0.44, 0.24, 0.08, 0.2, 0.2, 0.12, 0.24, 0.28, 0.16, 0.12, 0.2, 0.28, 0.04, 0.24, 0.12, 0.12, 0.32, 0.2, 0.16, 0.28, 0.2, 0.44, 0.0, 0.12, 0.16, 0.12, 0.12, 0.12, 0.32, 0.12, 0.04, 0.04, 0.2, 0.08, 0.2, 0.08, 0.04, 0.08, 0.04, 0.08, 0.0, 0.08, 0.0, 0.0, 0.08, 0.0, 0.08, 0.28, 0.08, 0.12, 0.16, 0.16, 0.08, 0.16, 0.08, 0.12, 0.28, 0.08, 0.12, 0.0, 0.0, 0.12, 0.08, 0.0, 0.12, 0.16, 0.12, 0.12, 0.12, 0.0, 0.16, 0.04, 0.08, 0.08, 0.16, 0.08, 0.24, 0.32, 0.2, 0.16, 0.12, 0.32, 0.0, 0.32, 0.36, 0.08, 0.04, 0.2, 0.04, 0.16, 0.16, 0.0, 0.0, 0.04, 0.04, 0.04, 0.2, 0.04, 0.12, 0.04, 0.24, 0.16, 0.44, 0.4, 0.12, 0.12, 0.52, 0.28, 0.32, 0.08, 0.24, 0.08, 0.16, 0.08, 0.16, 0.12, 0.44, 0.2, 0.24, 0.28, 0.32, 0.4, 0.56, 0.36, 0.6, 0.64, 0.48, 0.32, 0.36, 0.56, 0.16, 0.2, 0.36, 0.44, 0.16, 0.16, 0.12, 0.08, 0.36, 0.08, 0.16, 0.4, 0.24, 0.08, 0.44, 0.0, 0.24, 0.56, 0.24, 0.16, 0.16, 0.04, 0.0, 0.0, 0.0, 0.04, 0.0, 0.0, 0.16, 0.2, 0.16, 0.08, 0.04, 0.08, 0.32, 0.0, 0.0, 0.04, 0.24, 0.28, 0.04, 0.08, 0.04, 0.16, 0.24, 0.08, 0.12, 0.0, 0.0, 0.24, 0.12, 0.08, 0.28, 0.12, 0.08, 0.0, 0.04, 0.0, 0.08, 0.08, 0.2, 0.32, 0.12, 0.04, 0.12, 0.12, 0.04, 0.08, 0.12, 0.12, 0.04, 0.08, 0.32, 0.08, 0.08, 0.04, 0.0, 0.12, 0.04, 0.04, 0.12, 0.12, 0.24, 0.12, 0.08, 0.12, 0.28, 0.16, 0.36, 0.12, 0.04, 0.4, 0.16, 0.2, 0.12, 0.28, 0.24, 0.28, 0.2, 0.12, 0.48]\n"
          ]
        }
      ]
    },
    {
      "cell_type": "code",
      "source": [
        "from scipy.spatial import distance\n",
        "\n",
        "def is_duplicate(new_box, tracked_boxes, threshold=50):\n",
        "    \"\"\"Check if a new box is close to any tracked box.\"\"\"\n",
        "    new_center = (new_box[0] + new_box[2] / 2, new_box[1] + new_box[3] / 2)  # (x + w/2, y + h/2)\n",
        "    for tracked_box in tracked_boxes:\n",
        "        tracked_center = (tracked_box[0] + tracked_box[2] / 2, tracked_box[1] + tracked_box[3] / 2)\n",
        "        dist = distance.euclidean(new_center, tracked_center)\n",
        "        if dist < threshold:\n",
        "            return True\n",
        "    return False\n",
        "filtered_fruit_counts = []\n",
        "confidence_threshold = 0.1\n",
        "tracked_boxes = []\n",
        "\n",
        "if len(fruit_counts_per_frame) != len(snn_outputs) or len(detected_boxes_per_frame) != len(snn_outputs):\n",
        "    raise ValueError(\"Mismatch in lengths of fruit_counts_per_frame, detected_boxes_per_frame, and snn_outputs.\")\n",
        "\n",
        "for frame_idx, (count, confidence, boxes) in enumerate(zip(fruit_counts_per_frame, snn_outputs, detected_boxes_per_frame)):\n",
        "    frame_count = 0\n",
        "    if confidence > confidence_threshold:\n",
        "        frame_count = len(boxes)\n",
        "        for box in boxes:\n",
        "            if not is_duplicate(box, tracked_boxes):\n",
        "                tracked_boxes.append(box)\n",
        "    filtered_fruit_counts.append(frame_count)\n",
        "\n",
        "total_apples_no_duplicates = len(tracked_boxes)\n",
        "\n",
        "print(f\"Filtered fruit counts per frame (all apples): {filtered_fruit_counts}\")\n",
        "print(f\"Total apples after removing duplicates across frames: {int(total_apples_no_duplicates)}\")"
      ],
      "metadata": {
        "id": "rn9YqAGgJY3u",
        "outputId": "f5ded5ec-334c-43d9-8c01-5b51a4157998",
        "colab": {
          "base_uri": "https://localhost:8080/"
        }
      },
      "execution_count": 11,
      "outputs": [
        {
          "output_type": "stream",
          "name": "stdout",
          "text": [
            "Filtered fruit counts per frame (all apples): [37, 39, 38, 38, 38, 0, 0, 0, 37, 0, 37, 0, 0, 0, 38, 38, 39, 39, 0, 0, 0, 40, 0, 0, 0, 0, 0, 0, 0, 39, 0, 40, 40, 0, 38, 39, 39, 0, 39, 0, 41, 38, 41, 40, 41, 39, 38, 0, 40, 39, 41, 0, 0, 39, 0, 40, 0, 40, 0, 0, 0, 0, 38, 0, 0, 0, 40, 0, 0, 37, 0, 0, 0, 0, 0, 0, 0, 38, 38, 40, 0, 0, 0, 38, 0, 0, 39, 0, 37, 0, 0, 0, 37, 0, 37, 0, 0, 34, 37, 0, 0, 0, 0, 0, 37, 37, 0, 36, 0, 0, 0, 37, 0, 0, 37, 0, 39, 37, 38, 0, 0, 0, 0, 37, 0, 0, 37, 0, 0, 0, 40, 0, 0, 39, 0, 0, 39, 39, 39, 37, 37, 37, 37, 0, 38, 0, 0, 37, 0, 40, 0, 0, 0, 37, 0, 0, 0, 0, 38, 38, 0, 37, 39, 38, 37, 0, 0, 39, 0, 0, 40, 0, 0, 39, 36, 0, 39, 39, 38, 37, 38, 37, 37, 40, 38, 40, 37, 39, 39, 38, 39, 40, 38, 41, 38, 40, 38, 38, 39, 37, 38, 38, 39, 38, 38, 0, 39, 39, 0, 37, 38, 39, 38, 39, 39, 0, 0, 0, 0, 40, 0, 40, 41, 0, 39, 0, 0, 0, 40, 0, 42, 41, 41, 41, 0, 0, 41, 41, 42, 41, 0, 40, 0, 0, 0, 0, 42, 42, 42, 42, 40, 42, 42, 0, 42, 42, 41, 0, 0, 40, 0, 0, 0, 0, 0, 39, 0, 38, 0, 38, 40, 40, 40, 0, 41, 41, 41, 39, 0, 0, 0, 40, 0, 0, 0, 0, 0, 0, 40, 0, 0, 42, 0, 41, 0, 42, 0, 0, 0, 43, 0, 0, 0, 0, 38, 0, 39, 0, 0, 0, 0, 41, 41, 43, 40, 43, 41, 42, 42, 43, 43, 0, 0, 42, 0, 41, 0, 0, 39, 0, 41, 0, 0, 41, 0, 0, 42, 0, 41, 0, 40, 39, 40, 0, 0, 0, 0, 41, 0, 0, 0, 0, 42, 41, 42, 41, 42, 0, 0, 0, 41, 42, 41, 0, 41, 41, 39, 41, 38, 40, 37, 0, 37, 0, 38, 0, 0, 0, 0, 37, 0, 38, 37, 0, 39, 36, 37, 41, 0, 0, 0, 0, 36, 37, 37, 36, 0, 0, 40, 0, 38, 0, 38, 40, 38, 38, 37, 38, 36, 37, 36, 34, 36, 0, 36, 36, 39, 0, 0, 36, 0, 36, 37, 37, 38, 36, 37, 0, 0, 35, 34, 36, 35, 35, 0, 37, 33, 36, 34, 35, 33, 35, 31, 33, 32, 35, 32, 34, 0, 0, 0, 32, 33, 32, 33, 31, 34, 33, 34, 33, 32, 34, 31, 33, 33, 34, 33, 35, 34, 34, 36, 34, 37, 33, 36, 31, 34, 35, 34, 34, 33, 34, 0, 35, 35, 37, 35, 36, 36, 36, 35, 36, 35, 37, 35, 38, 0, 0, 0, 36, 34, 37, 0, 37, 40, 40, 0, 0, 0, 0, 39, 0, 40, 38, 0, 36, 0, 36, 37, 0, 38, 36, 35, 36, 0, 0, 38, 0, 37, 0, 0, 0, 0, 0, 0, 0, 0, 37, 37, 36, 0, 36, 33, 34, 34, 37, 36, 37, 35, 35, 34, 35, 34, 0, 0, 0, 0, 34, 33, 0, 0, 34, 34, 34, 34, 33, 35, 34, 0, 34, 0, 34, 32, 33, 0, 33, 34, 32, 0, 32, 32, 32, 33, 33, 33, 30, 31, 30, 29, 30, 30, 31, 33, 0, 29, 31, 30, 30, 30, 30, 27, 29, 28, 28, 27, 29, 0, 0, 30, 0, 29, 31, 29, 31, 29, 29, 28, 27, 30, 26, 28, 28, 0, 28, 29, 0, 29, 29, 28, 28, 0, 29, 29, 27, 29, 27, 26, 28, 28, 0, 0, 28, 0, 0, 26, 0, 0, 0, 0, 25, 26, 26, 26, 25, 0, 26, 26, 25, 26, 27, 25, 26, 26, 25, 26, 24, 25, 25, 24, 26, 25, 25, 0, 27, 27, 27, 26, 0, 27, 26, 26, 26, 27, 27, 27, 27, 27, 28, 27, 29, 27, 29, 28, 28, 29, 27, 31, 27, 29, 27, 29, 0, 30, 27, 29, 27, 28, 27, 29, 28, 28, 28, 27, 26, 26, 26, 0, 25, 26, 25, 27, 27, 27, 27, 26, 27, 0, 27, 25, 29, 29, 29, 26, 27, 27, 28, 0, 28, 27, 29, 27, 27, 27, 27, 0, 0, 28, 0, 27, 0, 0, 0, 0, 0, 0, 0, 0, 0, 0, 0, 0, 27, 0, 28, 29, 28, 0, 28, 0, 28, 30, 0, 30, 0, 0, 30, 0, 0, 29, 32, 29, 31, 32, 0, 29, 0, 0, 0, 30, 0, 30, 30, 29, 31, 28, 32, 0, 29, 29, 0, 0, 30, 0, 30, 29, 0, 0, 0, 0, 0, 30, 0, 30, 0, 30, 30, 30, 31, 31, 31, 32, 32, 31, 0, 31, 0, 31, 0, 32, 31, 30, 32, 30, 30, 32, 31, 31, 32, 31, 32, 31, 32, 31, 32, 31, 31, 31, 31, 30, 31, 32, 0, 32, 0, 31, 30, 32, 0, 32, 0, 31, 32, 30, 31, 32, 0, 0, 0, 0, 0, 0, 0, 32, 32, 32, 0, 0, 0, 32, 0, 0, 0, 33, 33, 0, 0, 0, 33, 34, 0, 32, 0, 0, 32, 31, 0, 32, 33, 0, 0, 0, 0, 0, 0, 34, 34, 32, 0, 33, 31, 0, 0, 32, 33, 0, 0, 31, 0, 0, 0, 0, 35, 0, 0, 34, 35, 33, 35, 0, 33, 33, 34, 32, 33, 0, 34, 34, 34, 33, 34, 35, 36, 35, 35, 33]\n",
            "Total apples after removing duplicates across frames: 90\n"
          ]
        }
      ]
    },
    {
      "cell_type": "code",
      "source": [
        "cap = cv2.VideoCapture(video_filename)\n",
        "frame_idx = 0\n",
        "\n",
        "while True:\n",
        "    ret, frame = cap.read()\n",
        "    if not ret:\n",
        "        break\n",
        "    boxes = detected_boxes_per_frame[frame_idx]  # Use stored boxes\n",
        "    frame_with_boxes = frame.copy()\n",
        "\n",
        "    for (x, y, w, h) in boxes:\n",
        "        cv2.rectangle(frame_with_boxes, (x, y), (x + w, y + h), (0, 255, 0), 2)\n",
        "        cv2.putText(frame_with_boxes, f\"Apple (Conf: {snn_outputs[frame_idx]:.2f})\",\n",
        "                    (x, y - 10), cv2.FONT_HERSHEY_SIMPLEX, 0.5, (0, 255, 255), 2)\n",
        "\n",
        "    count_text = f\"Fruits: {filtered_fruit_counts[frame_idx]}\"\n",
        "    cv2.putText(frame_with_boxes, count_text, (10, 30),\n",
        "                cv2.FONT_HERSHEY_SIMPLEX, 1, (255, 255, 255), 2)\n",
        "\n",
        "    cv2.imwrite(f\"frame_{frame_idx}_final.jpg\", frame_with_boxes)\n",
        "    frame_idx += 1\n",
        "\n",
        "cap.release()\n",
        "print(\"Visualization complete. Check the saved frames in the Colab file explorer.\")"
      ],
      "metadata": {
        "id": "_1uLYXs7Jnvw",
        "outputId": "30a056b8-d696-4f69-b4c4-9b16036d5af4",
        "colab": {
          "base_uri": "https://localhost:8080/"
        }
      },
      "execution_count": 12,
      "outputs": [
        {
          "output_type": "stream",
          "name": "stdout",
          "text": [
            "Visualization complete. Check the saved frames in the Colab file explorer.\n"
          ]
        }
      ]
    },
    {
      "cell_type": "code",
      "source": [
        "print(f\"Fruit counts per frame (traditional): {fruit_counts_per_frame}\")\n",
        "print(f\"Filtered fruit counts (SNN): {filtered_fruit_counts}\")"
      ],
      "metadata": {
        "id": "0v4odjmWJwcY",
        "outputId": "9f7194f4-4488-46e1-afec-11a58c05e107",
        "colab": {
          "base_uri": "https://localhost:8080/"
        }
      },
      "execution_count": 13,
      "outputs": [
        {
          "output_type": "stream",
          "name": "stdout",
          "text": [
            "Fruit counts per frame (traditional): [37, 39, 38, 38, 38, 38, 37, 38, 37, 37, 37, 39, 37, 38, 38, 38, 39, 39, 39, 38, 38, 40, 39, 38, 40, 40, 39, 39, 39, 39, 40, 40, 40, 39, 38, 39, 39, 39, 39, 40, 41, 38, 41, 40, 41, 39, 38, 39, 40, 39, 41, 39, 39, 39, 39, 40, 41, 40, 40, 39, 38, 39, 38, 39, 39, 39, 40, 41, 38, 37, 38, 40, 37, 38, 40, 39, 38, 38, 38, 40, 38, 39, 38, 38, 37, 39, 39, 38, 37, 37, 39, 38, 37, 36, 37, 36, 36, 34, 37, 37, 37, 36, 38, 37, 37, 37, 38, 36, 36, 36, 37, 37, 38, 37, 37, 39, 39, 37, 38, 39, 37, 38, 38, 37, 38, 38, 37, 39, 37, 38, 40, 39, 39, 39, 37, 39, 39, 39, 39, 37, 37, 37, 37, 38, 38, 38, 39, 37, 40, 40, 38, 38, 37, 37, 39, 39, 37, 39, 38, 38, 39, 37, 39, 38, 37, 39, 37, 39, 36, 39, 40, 39, 37, 39, 36, 38, 39, 39, 38, 37, 38, 37, 37, 40, 38, 40, 37, 39, 39, 38, 39, 40, 38, 41, 38, 40, 38, 38, 39, 37, 38, 38, 39, 38, 38, 39, 39, 39, 40, 37, 38, 39, 38, 39, 39, 38, 40, 39, 39, 40, 39, 40, 41, 39, 39, 40, 41, 40, 40, 39, 42, 41, 41, 41, 41, 42, 41, 41, 42, 41, 41, 40, 41, 42, 41, 41, 42, 42, 42, 42, 40, 42, 42, 42, 42, 42, 41, 41, 41, 40, 41, 41, 41, 39, 40, 39, 39, 38, 39, 38, 40, 40, 40, 41, 41, 41, 41, 39, 40, 40, 40, 40, 41, 40, 42, 40, 40, 41, 40, 40, 42, 42, 43, 41, 43, 42, 43, 42, 43, 43, 42, 43, 42, 40, 38, 41, 39, 39, 40, 40, 40, 41, 41, 43, 40, 43, 41, 42, 42, 43, 43, 41, 41, 42, 42, 41, 40, 42, 39, 41, 41, 41, 41, 41, 40, 42, 42, 39, 41, 39, 40, 39, 40, 40, 41, 41, 42, 41, 41, 41, 43, 41, 42, 41, 42, 41, 42, 41, 42, 40, 41, 42, 41, 41, 41, 41, 39, 41, 38, 40, 37, 38, 37, 38, 38, 38, 38, 37, 38, 37, 38, 38, 37, 37, 39, 36, 37, 41, 38, 40, 38, 36, 36, 37, 37, 36, 37, 37, 40, 39, 38, 38, 38, 40, 38, 38, 37, 38, 36, 37, 36, 34, 36, 35, 36, 36, 39, 36, 37, 36, 36, 36, 37, 37, 38, 36, 37, 36, 36, 35, 34, 36, 35, 35, 34, 37, 33, 36, 34, 35, 33, 35, 31, 33, 32, 35, 32, 34, 33, 33, 33, 32, 33, 32, 33, 31, 34, 33, 34, 33, 32, 34, 31, 33, 33, 34, 33, 35, 34, 34, 36, 34, 37, 33, 36, 31, 34, 35, 34, 34, 33, 34, 34, 35, 35, 37, 35, 36, 36, 36, 35, 36, 35, 37, 35, 38, 38, 37, 38, 36, 34, 37, 38, 37, 40, 40, 38, 38, 37, 38, 39, 38, 40, 38, 40, 36, 40, 36, 37, 36, 38, 36, 35, 36, 37, 37, 38, 37, 37, 35, 37, 37, 35, 39, 38, 38, 37, 37, 37, 36, 34, 36, 33, 34, 34, 37, 36, 37, 35, 35, 34, 35, 34, 34, 33, 33, 33, 34, 33, 34, 33, 34, 34, 34, 34, 33, 35, 34, 33, 34, 33, 34, 32, 33, 33, 33, 34, 32, 34, 32, 32, 32, 33, 33, 33, 30, 31, 30, 29, 30, 30, 31, 33, 30, 29, 31, 30, 30, 30, 30, 27, 29, 28, 28, 27, 29, 31, 29, 30, 31, 29, 31, 29, 31, 29, 29, 28, 27, 30, 26, 28, 28, 27, 28, 29, 28, 29, 29, 28, 28, 29, 29, 29, 27, 29, 27, 26, 28, 28, 25, 28, 28, 25, 27, 26, 26, 26, 25, 25, 25, 26, 26, 26, 25, 26, 26, 26, 25, 26, 27, 25, 26, 26, 25, 26, 24, 25, 25, 24, 26, 25, 25, 27, 27, 27, 27, 26, 27, 27, 26, 26, 26, 27, 27, 27, 27, 27, 28, 27, 29, 27, 29, 28, 28, 29, 27, 31, 27, 29, 27, 29, 27, 30, 27, 29, 27, 28, 27, 29, 28, 28, 28, 27, 26, 26, 26, 25, 25, 26, 25, 27, 27, 27, 27, 26, 27, 26, 27, 25, 29, 29, 29, 26, 27, 27, 28, 27, 28, 27, 29, 27, 27, 27, 27, 28, 27, 28, 27, 27, 27, 26, 27, 28, 27, 27, 29, 28, 28, 28, 28, 27, 27, 28, 28, 29, 28, 30, 28, 30, 28, 30, 29, 30, 28, 30, 30, 31, 31, 29, 32, 29, 31, 32, 31, 29, 30, 31, 30, 30, 31, 30, 30, 29, 31, 28, 32, 28, 29, 29, 30, 30, 30, 30, 30, 29, 30, 29, 30, 30, 29, 30, 30, 30, 30, 30, 30, 30, 31, 31, 31, 32, 32, 31, 31, 31, 32, 31, 31, 32, 31, 30, 32, 30, 30, 32, 31, 31, 32, 31, 32, 31, 32, 31, 32, 31, 31, 31, 31, 30, 31, 32, 31, 32, 30, 31, 30, 32, 30, 32, 31, 31, 32, 30, 31, 32, 31, 33, 31, 33, 32, 32, 32, 32, 32, 32, 33, 33, 31, 32, 30, 33, 31, 33, 33, 33, 34, 34, 33, 34, 32, 32, 32, 32, 32, 31, 33, 32, 33, 32, 34, 32, 34, 34, 35, 34, 34, 32, 34, 33, 31, 34, 33, 32, 33, 32, 33, 31, 33, 35, 34, 36, 35, 34, 34, 34, 35, 33, 35, 33, 33, 33, 34, 32, 33, 34, 34, 34, 34, 33, 34, 35, 36, 35, 35, 33]\n",
            "Filtered fruit counts (SNN): [37, 39, 38, 38, 38, 0, 0, 0, 37, 0, 37, 0, 0, 0, 38, 38, 39, 39, 0, 0, 0, 40, 0, 0, 0, 0, 0, 0, 0, 39, 0, 40, 40, 0, 38, 39, 39, 0, 39, 0, 41, 38, 41, 40, 41, 39, 38, 0, 40, 39, 41, 0, 0, 39, 0, 40, 0, 40, 0, 0, 0, 0, 38, 0, 0, 0, 40, 0, 0, 37, 0, 0, 0, 0, 0, 0, 0, 38, 38, 40, 0, 0, 0, 38, 0, 0, 39, 0, 37, 0, 0, 0, 37, 0, 37, 0, 0, 34, 37, 0, 0, 0, 0, 0, 37, 37, 0, 36, 0, 0, 0, 37, 0, 0, 37, 0, 39, 37, 38, 0, 0, 0, 0, 37, 0, 0, 37, 0, 0, 0, 40, 0, 0, 39, 0, 0, 39, 39, 39, 37, 37, 37, 37, 0, 38, 0, 0, 37, 0, 40, 0, 0, 0, 37, 0, 0, 0, 0, 38, 38, 0, 37, 39, 38, 37, 0, 0, 39, 0, 0, 40, 0, 0, 39, 36, 0, 39, 39, 38, 37, 38, 37, 37, 40, 38, 40, 37, 39, 39, 38, 39, 40, 38, 41, 38, 40, 38, 38, 39, 37, 38, 38, 39, 38, 38, 0, 39, 39, 0, 37, 38, 39, 38, 39, 39, 0, 0, 0, 0, 40, 0, 40, 41, 0, 39, 0, 0, 0, 40, 0, 42, 41, 41, 41, 0, 0, 41, 41, 42, 41, 0, 40, 0, 0, 0, 0, 42, 42, 42, 42, 40, 42, 42, 0, 42, 42, 41, 0, 0, 40, 0, 0, 0, 0, 0, 39, 0, 38, 0, 38, 40, 40, 40, 0, 41, 41, 41, 39, 0, 0, 0, 40, 0, 0, 0, 0, 0, 0, 40, 0, 0, 42, 0, 41, 0, 42, 0, 0, 0, 43, 0, 0, 0, 0, 38, 0, 39, 0, 0, 0, 0, 41, 41, 43, 40, 43, 41, 42, 42, 43, 43, 0, 0, 42, 0, 41, 0, 0, 39, 0, 41, 0, 0, 41, 0, 0, 42, 0, 41, 0, 40, 39, 40, 0, 0, 0, 0, 41, 0, 0, 0, 0, 42, 41, 42, 41, 42, 0, 0, 0, 41, 42, 41, 0, 41, 41, 39, 41, 38, 40, 37, 0, 37, 0, 38, 0, 0, 0, 0, 37, 0, 38, 37, 0, 39, 36, 37, 41, 0, 0, 0, 0, 36, 37, 37, 36, 0, 0, 40, 0, 38, 0, 38, 40, 38, 38, 37, 38, 36, 37, 36, 34, 36, 0, 36, 36, 39, 0, 0, 36, 0, 36, 37, 37, 38, 36, 37, 0, 0, 35, 34, 36, 35, 35, 0, 37, 33, 36, 34, 35, 33, 35, 31, 33, 32, 35, 32, 34, 0, 0, 0, 32, 33, 32, 33, 31, 34, 33, 34, 33, 32, 34, 31, 33, 33, 34, 33, 35, 34, 34, 36, 34, 37, 33, 36, 31, 34, 35, 34, 34, 33, 34, 0, 35, 35, 37, 35, 36, 36, 36, 35, 36, 35, 37, 35, 38, 0, 0, 0, 36, 34, 37, 0, 37, 40, 40, 0, 0, 0, 0, 39, 0, 40, 38, 0, 36, 0, 36, 37, 0, 38, 36, 35, 36, 0, 0, 38, 0, 37, 0, 0, 0, 0, 0, 0, 0, 0, 37, 37, 36, 0, 36, 33, 34, 34, 37, 36, 37, 35, 35, 34, 35, 34, 0, 0, 0, 0, 34, 33, 0, 0, 34, 34, 34, 34, 33, 35, 34, 0, 34, 0, 34, 32, 33, 0, 33, 34, 32, 0, 32, 32, 32, 33, 33, 33, 30, 31, 30, 29, 30, 30, 31, 33, 0, 29, 31, 30, 30, 30, 30, 27, 29, 28, 28, 27, 29, 0, 0, 30, 0, 29, 31, 29, 31, 29, 29, 28, 27, 30, 26, 28, 28, 0, 28, 29, 0, 29, 29, 28, 28, 0, 29, 29, 27, 29, 27, 26, 28, 28, 0, 0, 28, 0, 0, 26, 0, 0, 0, 0, 25, 26, 26, 26, 25, 0, 26, 26, 25, 26, 27, 25, 26, 26, 25, 26, 24, 25, 25, 24, 26, 25, 25, 0, 27, 27, 27, 26, 0, 27, 26, 26, 26, 27, 27, 27, 27, 27, 28, 27, 29, 27, 29, 28, 28, 29, 27, 31, 27, 29, 27, 29, 0, 30, 27, 29, 27, 28, 27, 29, 28, 28, 28, 27, 26, 26, 26, 0, 25, 26, 25, 27, 27, 27, 27, 26, 27, 0, 27, 25, 29, 29, 29, 26, 27, 27, 28, 0, 28, 27, 29, 27, 27, 27, 27, 0, 0, 28, 0, 27, 0, 0, 0, 0, 0, 0, 0, 0, 0, 0, 0, 0, 27, 0, 28, 29, 28, 0, 28, 0, 28, 30, 0, 30, 0, 0, 30, 0, 0, 29, 32, 29, 31, 32, 0, 29, 0, 0, 0, 30, 0, 30, 30, 29, 31, 28, 32, 0, 29, 29, 0, 0, 30, 0, 30, 29, 0, 0, 0, 0, 0, 30, 0, 30, 0, 30, 30, 30, 31, 31, 31, 32, 32, 31, 0, 31, 0, 31, 0, 32, 31, 30, 32, 30, 30, 32, 31, 31, 32, 31, 32, 31, 32, 31, 32, 31, 31, 31, 31, 30, 31, 32, 0, 32, 0, 31, 30, 32, 0, 32, 0, 31, 32, 30, 31, 32, 0, 0, 0, 0, 0, 0, 0, 32, 32, 32, 0, 0, 0, 32, 0, 0, 0, 33, 33, 0, 0, 0, 33, 34, 0, 32, 0, 0, 32, 31, 0, 32, 33, 0, 0, 0, 0, 0, 0, 34, 34, 32, 0, 33, 31, 0, 0, 32, 33, 0, 0, 31, 0, 0, 0, 0, 35, 0, 0, 34, 35, 33, 35, 0, 33, 33, 34, 32, 33, 0, 34, 34, 34, 33, 34, 35, 36, 35, 35, 33]\n"
          ]
        }
      ]
    },
    {
      "cell_type": "code",
      "source": [
        "import torch.optim as optim\n",
        "\n",
        "criterion = torch.nn.MSELoss()\n",
        "optimizer = optim.Adam(snn_model.parameters(), lr=0.001)\n",
        "\n",
        "num_epochs = 10\n",
        "for epoch in range(num_epochs):\n",
        "    total_loss = 0\n",
        "    for frame_idx in range(spike_trains.shape[1]):\n",
        "        frame_spikes = spike_trains[:, frame_idx, 0, :, :].to(device)\n",
        "        frame_spikes_flat = frame_spikes.view(num_steps, -1)\n",
        "        spk = snn_model(frame_spikes_flat)\n",
        "        target = torch.tensor([fruit_counts_per_frame[frame_idx] > 0], dtype=torch.float).to(device)\n",
        "        loss = criterion(spk.sum(dim=0), target)\n",
        "        optimizer.zero_grad()\n",
        "        loss.backward()\n",
        "        optimizer.step()\n",
        "        total_loss += loss.item()\n",
        "    print(f\"Epoch {epoch+1}, Average Loss: {total_loss / spike_trains.shape[1]:.4f}\")"
      ],
      "metadata": {
        "id": "gWcyXqQWJ_yd",
        "outputId": "fa93ada5-89fe-435c-d1c6-bead28ec1a45",
        "colab": {
          "base_uri": "https://localhost:8080/"
        }
      },
      "execution_count": 14,
      "outputs": [
        {
          "output_type": "stream",
          "name": "stderr",
          "text": [
            "/usr/local/lib/python3.11/dist-packages/torch/nn/modules/loss.py:610: UserWarning: Using a target size (torch.Size([1])) that is different to the input size (torch.Size([25, 1])). This will likely lead to incorrect results due to broadcasting. Please ensure they have the same size.\n",
            "  return F.mse_loss(input, target, reduction=self.reduction)\n"
          ]
        },
        {
          "output_type": "stream",
          "name": "stdout",
          "text": [
            "Epoch 1, Average Loss: 0.9981\n",
            "Epoch 2, Average Loss: 1.0021\n",
            "Epoch 3, Average Loss: 1.0000\n",
            "Epoch 4, Average Loss: 1.0000\n",
            "Epoch 5, Average Loss: 1.0127\n",
            "Epoch 6, Average Loss: 1.0000\n",
            "Epoch 7, Average Loss: 1.0000\n",
            "Epoch 8, Average Loss: 1.0019\n",
            "Epoch 9, Average Loss: 1.0000\n",
            "Epoch 10, Average Loss: 1.0000\n"
          ]
        }
      ]
    },
    {
      "cell_type": "code",
      "source": [
        "from sklearn.metrics import precision_score, recall_score, f1_score,accuracy_score\n",
        "import numpy as np\n",
        "if not fruit_counts_per_frame or not filtered_fruit_counts or len(fruit_counts_per_frame) != len(filtered_fruit_counts):\n",
        "    raise ValueError(\"Error: fruit_counts_per_frame and filtered_fruit_counts must be non-empty and of equal length.\")\n",
        "ground_truth,b = [1 if count > 0 else 0 for count in fruit_counts_per_frame],0.92\n",
        "predictions = [1 if count > 0 else 0 for count in filtered_fruit_counts]\n",
        "accuracy = accuracy_score(ground_truth, predictions)\n",
        "print(f\"Accuracy: {accuracy:.2f}\")\n",
        "precision = precision_score(ground_truth, predictions, zero_division=0)\n",
        "recall = recall_score(ground_truth, predictions, zero_division=0)\n",
        "f1 = f1_score(ground_truth, predictions, zero_division=0)\n",
        "print(f\"Classification Metrics (Binary Presence/Absence):\")\n",
        "print(f\"Precision: {precision:.2f} (fraction of predicted positives that are correct)\")\n",
        "print(f\"Recall: {recall:.2f} (fraction of actual positives correctly predicted)\")\n",
        "print(f\"F1-Score: {f1:.2f}\")\n",
        "mae = np.mean(np.abs(np.array(fruit_counts_per_frame) - np.array(filtered_fruit_counts)))\n",
        "rmse = np.sqrt(np.mean((np.array(fruit_counts_per_frame) - np.array(filtered_fruit_counts)) ** 2))\n",
        "print(f\"\\nCount Accuracy Metrics:\")\n",
        "print(f\"MAE: {mae:.2f} (mean absolute error in fruit counts per frame)\")\n",
        "print(f\"RMSE: {rmse:.2f} (root mean squared error in fruit counts per frame)\")"
      ],
      "metadata": {
        "id": "-TU-7fnqKJvn",
        "outputId": "cbf6e936-b2d1-4477-eb5d-5e0c4b5e5ab5",
        "colab": {
          "base_uri": "https://localhost:8080/"
        }
      },
      "execution_count": 15,
      "outputs": [
        {
          "output_type": "stream",
          "name": "stdout",
          "text": [
            "Accuracy: 0.63\n",
            "Classification Metrics (Binary Presence/Absence):\n",
            "Precision: 1.00 (fraction of predicted positives that are correct)\n",
            "Recall: 0.63 (fraction of actual positives correctly predicted)\n",
            "F1-Score: 0.78\n",
            "\n",
            "Count Accuracy Metrics:\n",
            "MAE: 13.13 (mean absolute error in fruit counts per frame)\n",
            "RMSE: 21.91 (root mean squared error in fruit counts per frame)\n"
          ]
        }
      ]
    },
    {
      "cell_type": "code",
      "source": [
        "import numpy as np\n",
        "\n",
        "ground_truth_counts = fruit_counts_per_frame\n",
        "predicted_counts = filtered_fruit_counts\n",
        "\n",
        "mae = np.mean(np.abs(np.array(ground_truth_counts) - np.array(predicted_counts)))\n",
        "rmse = np.sqrt(np.mean((np.array(ground_truth_counts) - np.array(predicted_counts)) ** 2))\n",
        "\n",
        "print(f\"MAE: {mae:.2f}, RMSE: {rmse:.2f}\")"
      ],
      "metadata": {
        "id": "2T9AGmJHKNuq",
        "outputId": "f154d1a2-3387-422e-e169-17964261f0d1",
        "colab": {
          "base_uri": "https://localhost:8080/"
        }
      },
      "execution_count": 16,
      "outputs": [
        {
          "output_type": "stream",
          "name": "stdout",
          "text": [
            "MAE: 13.13, RMSE: 21.91\n"
          ]
        }
      ]
    },
    {
      "cell_type": "code",
      "source": [
        "cap = cv2.VideoCapture(video_filename)\n",
        "frame_width = int(cap.get(3))\n",
        "frame_height = int(cap.get(4))\n",
        "out = cv2.VideoWriter('output_video.mp4', cv2.VideoWriter_fourcc(*'mp4v'), 20, (frame_width, frame_height))\n",
        "\n",
        "frame_idx = 0\n",
        "while True:\n",
        "    ret, frame = cap.read()\n",
        "    if not ret:\n",
        "        break\n",
        "    boxes = detected_boxes_per_frame[frame_idx]\n",
        "    frame_with_boxes = frame.copy()\n",
        "    for (x, y, w, h) in boxes:\n",
        "        cv2.rectangle(frame_with_boxes, (x, y), (x + w, y + h), (0, 255, 0), 2)\n",
        "        cv2.putText(frame_with_boxes, f\"Apple (Conf: {snn_outputs[frame_idx]:.2f})\",\n",
        "                    (x, y - 10), cv2.FONT_HERSHEY_SIMPLEX, 0.5, (0, 255, 255), 2)\n",
        "    count_text = f\"Fruits: {filtered_fruit_counts[frame_idx]}\"\n",
        "    cv2.putText(frame_with_boxes, count_text, (10, 30),\n",
        "                cv2.FONT_HERSHEY_SIMPLEX, 1, (255, 255, 255), 2)\n",
        "    out.write(frame_with_boxes)\n",
        "    frame_idx += 1\n",
        "\n",
        "cap.release()\n",
        "out.release()\n",
        "print(\"Output video saved as 'output_video.mp4'.\")"
      ],
      "metadata": {
        "id": "gl8Ctd-SKb_F",
        "outputId": "e92b7987-7df7-4a68-910a-8ec8cefdf30e",
        "colab": {
          "base_uri": "https://localhost:8080/"
        }
      },
      "execution_count": 19,
      "outputs": [
        {
          "output_type": "stream",
          "name": "stdout",
          "text": [
            "Output video saved as 'output_video.mp4'.\n"
          ]
        }
      ]
    },
    {
      "cell_type": "code",
      "source": [
        "from google.colab import files\n",
        "files.download('output_video.mp4')"
      ],
      "metadata": {
        "id": "R8Id8od1KgsR",
        "outputId": "b8b026c6-7f89-4146-ba4a-7f65c07d91a0",
        "colab": {
          "base_uri": "https://localhost:8080/",
          "height": 17
        }
      },
      "execution_count": 20,
      "outputs": [
        {
          "output_type": "display_data",
          "data": {
            "text/plain": [
              "<IPython.core.display.Javascript object>"
            ],
            "application/javascript": [
              "\n",
              "    async function download(id, filename, size) {\n",
              "      if (!google.colab.kernel.accessAllowed) {\n",
              "        return;\n",
              "      }\n",
              "      const div = document.createElement('div');\n",
              "      const label = document.createElement('label');\n",
              "      label.textContent = `Downloading \"${filename}\": `;\n",
              "      div.appendChild(label);\n",
              "      const progress = document.createElement('progress');\n",
              "      progress.max = size;\n",
              "      div.appendChild(progress);\n",
              "      document.body.appendChild(div);\n",
              "\n",
              "      const buffers = [];\n",
              "      let downloaded = 0;\n",
              "\n",
              "      const channel = await google.colab.kernel.comms.open(id);\n",
              "      // Send a message to notify the kernel that we're ready.\n",
              "      channel.send({})\n",
              "\n",
              "      for await (const message of channel.messages) {\n",
              "        // Send a message to notify the kernel that we're ready.\n",
              "        channel.send({})\n",
              "        if (message.buffers) {\n",
              "          for (const buffer of message.buffers) {\n",
              "            buffers.push(buffer);\n",
              "            downloaded += buffer.byteLength;\n",
              "            progress.value = downloaded;\n",
              "          }\n",
              "        }\n",
              "      }\n",
              "      const blob = new Blob(buffers, {type: 'application/binary'});\n",
              "      const a = document.createElement('a');\n",
              "      a.href = window.URL.createObjectURL(blob);\n",
              "      a.download = filename;\n",
              "      div.appendChild(a);\n",
              "      a.click();\n",
              "      div.remove();\n",
              "    }\n",
              "  "
            ]
          },
          "metadata": {}
        },
        {
          "output_type": "display_data",
          "data": {
            "text/plain": [
              "<IPython.core.display.Javascript object>"
            ],
            "application/javascript": [
              "download(\"download_aab5a8e9-dc46-448e-b282-8074651c6362\", \"output_video.mp4\", 78610431)"
            ]
          },
          "metadata": {}
        }
      ]
    },
    {
      "cell_type": "code",
      "source": [
        "import matplotlib.pyplot as plt\n",
        "import seaborn as sns\n",
        "import numpy as np\n",
        "from sklearn.metrics import confusion_matrix, precision_score, recall_score, f1_score, accuracy_score\n",
        "\n",
        "def visualize_metrics(fruit_counts_per_frame, filtered_fruit_counts, losses=None, num_epochs=None, save_path='model_performance_metrics.png'):\n",
        "\n",
        "    if not isinstance(fruit_counts_per_frame, (list, np.ndarray)) or not isinstance(filtered_fruit_counts, (list, np.ndarray)):\n",
        "        raise TypeError(\"fruit_counts_per_frame and filtered_fruit_counts must be lists or numpy arrays\")\n",
        "\n",
        "    if len(fruit_counts_per_frame) == 0 or len(filtered_fruit_counts) == 0:\n",
        "        raise ValueError(\"Input lists cannot be empty\")\n",
        "\n",
        "    if len(fruit_counts_per_frame) != len(filtered_fruit_counts):\n",
        "        raise ValueError(f\"Mismatched lengths: fruit_counts_per_frame ({len(fruit_counts_per_frame)}) \"\n",
        "                        f\"vs filtered_fruit_counts ({len(filtered_fruit_counts)})\")\n",
        "\n",
        "    if losses is not None and len(losses) == 0:\n",
        "        raise ValueError(\"Losses list cannot be empty if provided\")\n",
        "\n",
        "    # Convert to numpy arrays for calculations\n",
        "    gt_counts = np.array(fruit_counts_per_frame)\n",
        "    pred_counts = np.array(filtered_fruit_counts)\n",
        "\n",
        "    # Compute binary classification metrics (presence/absence)\n",
        "    gt_binary = (gt_counts > 0).astype(int)\n",
        "    pred_binary = (pred_counts > 0).astype(int)\n",
        "\n",
        "    # Compute metrics\n",
        "    cm = confusion_matrix(gt_binary, pred_binary)\n",
        "    classification_metrics = {\n",
        "        'Accuracy': accuracy_score(gt_binary, pred_binary),\n",
        "        'Precision': precision_score(gt_binary, pred_binary, zero_division=0),\n",
        "        'Recall': recall_score(gt_binary, pred_binary, zero_division=0),\n",
        "        'F1-Score': f1_score(gt_binary, pred_binary, zero_division=0)\n",
        "    }\n",
        "\n",
        "    count_metrics = {\n",
        "        'MAE': np.mean(np.abs(gt_counts - pred_counts)),\n",
        "        'RMSE': np.sqrt(np.mean((gt_counts - pred_counts) ** 2)),\n",
        "        'Max Error': np.max(np.abs(gt_counts - pred_counts))\n",
        "    }\n",
        "\n",
        "    # Create the figure\n",
        "    plt.figure(figsize=(18, 12))\n",
        "    plt.suptitle('Model Performance Metrics', fontsize=16, y=1.02)\n",
        "\n",
        "    # 1. Confusion Matrix\n",
        "    plt.subplot(2, 2, 1)\n",
        "    sns.heatmap(cm, annot=True, fmt='d', cmap='Blues',\n",
        "                xticklabels=['No Fruit', 'Fruit Present'],\n",
        "                yticklabels=['No Fruit', 'Fruit Present'])\n",
        "    plt.title('Confusion Matrix (Fruit Presence/Absence)')\n",
        "    plt.xlabel('Predicted')\n",
        "    plt.ylabel('Actual')\n",
        "\n",
        "    # 2. Classification Metrics\n",
        "    plt.subplot(2, 2, 2)\n",
        "    colors = plt.cm.viridis(np.linspace(0, 1, len(classification_metrics)))\n",
        "    bars = plt.bar(classification_metrics.keys(), classification_metrics.values(), color=colors)\n",
        "    plt.title('Classification Metrics')\n",
        "    plt.ylim(0, 1.1)\n",
        "    for bar in bars:\n",
        "        height = bar.get_height()\n",
        "        plt.text(bar.get_x() + bar.get_width()/2., height,\n",
        "                 f'{height:.3f}',\n",
        "                 ha='center', va='bottom')\n",
        "\n",
        "    # 3. Count Accuracy Metrics\n",
        "    plt.subplot(2, 2, 3)\n",
        "    colors = plt.cm.plasma(np.linspace(0, 1, len(count_metrics)))\n",
        "    bars = plt.bar(count_metrics.keys(), count_metrics.values(), color=colors)\n",
        "    plt.title('Count Accuracy Metrics')\n",
        "    for bar in bars:\n",
        "        height = bar.get_height()\n",
        "        plt.text(bar.get_x() + bar.get_width()/2., height,\n",
        "                 f'{height:.2f}',\n",
        "                 ha='center', va='bottom')\n",
        "\n",
        "    # 4. Training Loss (if provided)\n",
        "    if losses is not None:\n",
        "        plt.subplot(2, 2, 4)\n",
        "        if num_epochs is None:\n",
        "            num_epochs = len(losses)\n",
        "        epochs = range(1, num_epochs + 1)\n",
        "\n",
        "        # Handle case where losses length doesn't match num_epochs\n",
        "        if len(losses) < num_epochs:\n",
        "            losses = losses + [losses[-1]] * (num_epochs - len(losses))\n",
        "        elif len(losses) > num_epochs:\n",
        "            losses = losses[:num_epochs]\n",
        "\n",
        "        plt.plot(epochs, losses, 'b-o', linewidth=2, markersize=5)\n",
        "        plt.title('Training Loss')\n",
        "        plt.xlabel('Epoch')\n",
        "        plt.ylabel('Loss')\n",
        "        plt.grid(True)\n",
        "    else:\n",
        "        # If no losses provided, show count comparison\n",
        "        plt.subplot(2, 2, 4)\n",
        "        sample_indices = np.random.choice(len(gt_counts), size=min(20, len(gt_counts)), replace=False)\n",
        "        x = range(len(sample_indices))\n",
        "        plt.bar(x, gt_counts[sample_indices], width=0.4, label='Ground Truth')\n",
        "        plt.bar([i + 0.4 for i in x], pred_counts[sample_indices], width=0.4, label='Predicted')\n",
        "        plt.title('Sample Count Comparison')\n",
        "        plt.xlabel('Sample Index')\n",
        "        plt.ylabel('Count')\n",
        "        plt.legend()\n",
        "        plt.xticks([i + 0.2 for i in x], sample_indices)\n",
        "\n",
        "    plt.tight_layout()\n",
        "\n",
        "    if save_path:\n",
        "        plt.savefig(save_path, bbox_inches='tight', dpi=300)\n",
        "        print(f\"Metrics visualization saved to {save_path}\")\n",
        "\n",
        "    plt.show()\n",
        "\n",
        "    # Return metrics for further analysis\n",
        "    return {\n",
        "        'confusion_matrix': cm,\n",
        "        'classification_metrics': classification_metrics,\n",
        "        'count_metrics': count_metrics\n",
        "    }\n",
        "\n",
        "\n",
        "# Example usage\n",
        "if __name__ == \"__main__\":\n",
        "    try:\n",
        "        # Generate example data\n",
        "        np.random.seed(42)\n",
        "        num_samples = 100\n",
        "        fruit_counts_per_frame = np.random.poisson(lam=2, size=num_samples)\n",
        "        filtered_fruit_counts = fruit_counts_per_frame + np.random.randint(-1, 2, size=num_samples)\n",
        "        losses = np.logspace(0, 1, num=50)  # Example loss curve\n",
        "\n",
        "        # Call the visualization function\n",
        "        metrics = visualize_metrics(\n",
        "            fruit_counts_per_frame,\n",
        "            filtered_fruit_counts,\n",
        "            losses=losses,\n",
        "            num_epochs=50,\n",
        "            save_path='example_metrics.png'\n",
        "        )\n",
        "\n",
        "        # Print metrics\n",
        "        print(\"\\nMetrics Summary:\")\n",
        "        for metric_type, values in metrics.items():\n",
        "            print(f\"\\n{metric_type.replace('_', ' ').title()}:\")\n",
        "            for name, value in values.items():\n",
        "                print(f\"{name}: {value:.4f}\")\n",
        "\n",
        "    except Exception as e:\n",
        "        print(f\"Error in example usage: {str(e)}\")"
      ],
      "metadata": {
        "id": "V6MhSAbGKlEI",
        "outputId": "cde39f0c-ca0c-42e5-dbea-661994698a3d",
        "colab": {
          "base_uri": "https://localhost:8080/",
          "height": 1000
        }
      },
      "execution_count": 21,
      "outputs": [
        {
          "output_type": "stream",
          "name": "stdout",
          "text": [
            "Metrics visualization saved to example_metrics.png\n"
          ]
        },
        {
          "output_type": "display_data",
          "data": {
            "text/plain": [
              "<Figure size 1800x1200 with 5 Axes>"
            ],
            "image/png": "[encoded data removed]"
          },
          "metadata": {}
        },
        {
          "output_type": "stream",
          "name": "stdout",
          "text": [
            "\n",
            "Metrics Summary:\n",
            "\n",
            "Confusion Matrix:\n",
            "Error in example usage: 'numpy.ndarray' object has no attribute 'items'\n"
          ]
        }
      ]
    },
    {
      "cell_type": "code",
      "source": [],
      "metadata": {
        "id": "usW44ksKK0hL"
      },
      "execution_count": null,
      "outputs": []
    }
  ]
}